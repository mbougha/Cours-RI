{
  "nbformat": 4,
  "nbformat_minor": 0,
  "metadata": {
    "kernelspec": {
      "display_name": "Python 3",
      "language": "python",
      "name": "python3"
    },
    "language_info": {
      "codemirror_mode": {
        "name": "ipython",
        "version": 3
      },
      "file_extension": ".py",
      "mimetype": "text/x-python",
      "name": "python",
      "nbconvert_exporter": "python",
      "pygments_lexer": "ipython3",
      "version": "3.6.10"
    },
    "colab": {
      "name": "Cours_RI_part1.ipynb",
      "provenance": [],
      "include_colab_link": true
    }
  },
  "cells": [
    {
      "cell_type": "markdown",
      "metadata": {
        "id": "view-in-github",
        "colab_type": "text"
      },
      "source": [
        "<a href=\"https://colab.research.google.com/github/mbougha/Cours-RI/blob/main/Cours_RI_part1.ipynb\" target=\"_parent\"><img src=\"https://colab.research.google.com/assets/colab-badge.svg\" alt=\"Open In Colab\"/></a>"
      ]
    },
    {
      "cell_type": "markdown",
      "metadata": {
        "id": "apGb9jF0zCjf"
      },
      "source": [
        "# Cours Introduction à la Recherche d'Information à l'N7"
      ]
    },
    {
      "cell_type": "markdown",
      "metadata": {
        "id": "RRmLJ2x8zCjg"
      },
      "source": [
        "Il existe différentes librairies sous Python pour analyser le texte. L'analyse peut consister à extraire les mots simples, jusqu'à l'analyse un peu plus \"poussée\", vecteurs de mots pondérés, représentations continues (LSI, LDA, embedings,..).\n",
        "De manière générale le  \"text processing\" passe par les étapes suivantes=\n",
        "    - tokenizer avec ou sans suppression de mots vides\n",
        "    - construction du vocabulaire (le dictionnaire): vocabulary—lexicon\n",
        "    - vectorisation d'un texte\n",
        "  "
      ]
    },
    {
      "cell_type": "markdown",
      "metadata": {
        "id": "u-eURIHOzCji"
      },
      "source": [
        "## Il existe différentes librairies qui assurent ces fonctions d'analyse de textes: NTK, SKLEARN, Gensim."
      ]
    },
    {
      "cell_type": "markdown",
      "metadata": {
        "id": "RYTxu35_zCjj"
      },
      "source": [
        "### 1 - NLTK\n",
        "Le texte ci-dessous montre deux fonctions la première construit à partir d'un texte, son sac de mots (le texte en question est segmenté (split), tockenize, suppression des mots vides normalisation puis comptage. \n",
        "La seconde fonction fait un comptage (bag of words avec les fréquence des mots)."
      ]
    },
    {
      "cell_type": "code",
      "metadata": {
        "colab": {
          "base_uri": "https://localhost:8080/"
        },
        "id": "fPAV60ZJzvSH",
        "outputId": "2380849b-d029-43e0-ace1-fcf37ffbd15a"
      },
      "source": [
        "from google.colab import drive\n",
        "drive.mount('/content/drive')\n"
      ],
      "execution_count": 1,
      "outputs": [
        {
          "output_type": "stream",
          "name": "stdout",
          "text": [
            "Mounted at /content/drive\n"
          ]
        }
      ]
    },
    {
      "cell_type": "code",
      "metadata": {
        "colab": {
          "base_uri": "https://localhost:8080/"
        },
        "id": "JmDe35KkiC_f",
        "outputId": "40fb9ae5-8f35-4388-a7db-a08b1f2fedf5"
      },
      "source": [
        "!pip install nltk\n",
        "nltk.download('punkt')"
      ],
      "execution_count": 8,
      "outputs": [
        {
          "output_type": "stream",
          "name": "stdout",
          "text": [
            "Requirement already satisfied: nltk in /usr/local/lib/python3.7/dist-packages (3.2.5)\n",
            "Requirement already satisfied: six in /usr/local/lib/python3.7/dist-packages (from nltk) (1.15.0)\n",
            "[nltk_data] Downloading package punkt to /root/nltk_data...\n",
            "[nltk_data]   Unzipping tokenizers/punkt.zip.\n"
          ]
        },
        {
          "output_type": "execute_result",
          "data": {
            "text/plain": [
              "True"
            ]
          },
          "metadata": {},
          "execution_count": 8
        }
      ]
    },
    {
      "cell_type": "code",
      "metadata": {
        "id": "kVT_A_fP07fR"
      },
      "source": [
        "#epertoire ou sont sauveragrdées les données de test\n",
        "dataset_dir='/content/drive/My Drive/MyColabNotebooks/Mes_cours/data'\n",
        "\n",
        "#votre directory \n",
        "#dataset_dir='./'"
      ],
      "execution_count": 9,
      "outputs": []
    },
    {
      "cell_type": "code",
      "metadata": {
        "id": "MZPuVnIYzCjj",
        "colab": {
          "base_uri": "https://localhost:8080/"
        },
        "outputId": "869e0248-76db-4ae9-cc26-1b9804e6c77c"
      },
      "source": [
        "#NLTK\n",
        "import nltk\n",
        "\n",
        "from nltk.stem import PorterStemmer, WordNetLemmatizer\n",
        "from nltk.corpus import stopwords\n",
        "from nltk import word_tokenize, sent_tokenize #TweetTokenizer\n",
        "from nltk.util import ngrams\n",
        "from nltk.probability import FreqDist\n",
        "import nltk.data\n",
        "from pprint import pprint\n",
        "\n",
        "nltk.download('stopwords')\n",
        "#NLTK\n",
        "#- tokenizer—scanner, lexical analyzer\n",
        "def extraire_bag_of_words(texte, type_norma):  \n",
        "    stemmer = PorterStemmer()\n",
        "    lemmatizer = WordNetLemmatizer()\n",
        "\n",
        "    # Method-1 : Individual words as separate elements of the list   \n",
        "    #text split extraire tous les mots, séparateurs, ...\n",
        "    texte_split=texte.split()\n",
        "    \n",
        "    # seuls les mots (tokens) sont extraits) \n",
        "    texte = word_tokenize(texte.lower())\n",
        "    \n",
        "    # suppression des stop words\n",
        "    stop_words = nltk.corpus.stopwords.words('english')\n",
        "    #Liste des mots sans les mots vides\n",
        "    new_tokens = [w for w in texte if not w in stop_words]\n",
        "    # Liste des mots normalisés (selon Porter)\n",
        "    if type_norma=='porter':      \n",
        "        new_tokens = [stemmer.stem(w) for w in texte if not w in stop_words]\n",
        "        #print(\"Normalisation selon Porter\")\n",
        "        #print(new_tokens)\n",
        "\n",
        "    # Liste des mots normalisés (selon Lemmatiseur)\n",
        "    if type_norma=='lemmatizer':      \n",
        "        new_tokens = [lemmatizer.lemmatize(w) for w in texte if not w in stop_words]\n",
        "        #print(\"Normalisation selon lemmatiseur\")\n",
        "        #print(new_tokens)\n",
        "    \n",
        "    return new_tokens\n",
        "\n",
        "def count_words(tokens):\n",
        "    # librairie pour le comptage des mots\n",
        "    from collections import Counter\n",
        "    bag_of_words = Counter(tokens)\n",
        "    return bag_of_words\n",
        "\n",
        "\n"
      ],
      "execution_count": 10,
      "outputs": [
        {
          "output_type": "stream",
          "name": "stdout",
          "text": [
            "[nltk_data] Downloading package stopwords to /root/nltk_data...\n",
            "[nltk_data]   Package stopwords is already up-to-date!\n"
          ]
        }
      ]
    },
    {
      "cell_type": "markdown",
      "metadata": {
        "id": "WxGFUbaZzCjk"
      },
      "source": [
        "Test sur la construction de sac de mots (fonction ci-dessus)."
      ]
    },
    {
      "cell_type": "code",
      "metadata": {
        "id": "NS7-Qcs_zCjm",
        "colab": {
          "base_uri": "https://localhost:8080/"
        },
        "outputId": "c1c96729-dd24-4563-84c8-4321f795c61d"
      },
      "source": [
        "import os\n",
        "\n",
        "# PRENDRE VOS DONNEES\n",
        "text_file=os.path.join(dataset_dir, 'dataN7/text_file1.txt')\n",
        "\n",
        "with open(text_file) as f:\n",
        "        text=f.read()\n",
        "\n",
        "##Extraire les mots simple et lémamtiser avec Porter ou un lemattizar plus sophistiqué (par exemple WordNet)\n",
        "\n",
        "tokens=extraire_bag_of_words(text,'porter')\n",
        "#tokens=extraire_bag_of_words(text,'lemmatizer')\n",
        "\n",
        "print(\"LES TOKENS:\")\n",
        "print(tokens)\n",
        "\n",
        "#récuperer la liste des n grammes (récupérer les mots adjenents 2 à deux.)\n",
        "print()\n",
        "list(ngrams(tokens,2))\n",
        "print('LES nGRAMs')\n",
        "print(list(ngrams(tokens,2)))\n",
        "\n",
        "# compter les tokens (construire le bag of words (Mot,count))\n",
        "bag_words=count_words(tokens)\n",
        "print(\"\\nLES BAG OF WORDS\")\n",
        "print(bag_words)\n"
      ],
      "execution_count": 11,
      "outputs": [
        {
          "output_type": "stream",
          "name": "stdout",
          "text": [
            "LES TOKENS:\n",
            "['global', 'warm', 'long-term', 'rise', 'averag', 'temperatur', 'earth', \"'s\", 'climat', 'system', ',', 'aspect', 'climat', 'chang', 'shown', 'temperatur', 'measur', 'multipl', 'effect', 'warm', '.', 'though', 'earlier', 'geolog', 'period', 'also', 'experienc', 'episod', 'warm', ',', 'term', 'commonli', 'refer', 'observ', 'continu', 'increas', 'averag', 'air', 'ocean', 'temperatur', 'sinc', '1900', 'caus', 'mainli', 'emiss', 'greenhous', 'gass', 'modern', 'industri', 'economi', '.']\n",
            "\n",
            "LES nGRAMs\n",
            "[('global', 'warm'), ('warm', 'long-term'), ('long-term', 'rise'), ('rise', 'averag'), ('averag', 'temperatur'), ('temperatur', 'earth'), ('earth', \"'s\"), (\"'s\", 'climat'), ('climat', 'system'), ('system', ','), (',', 'aspect'), ('aspect', 'climat'), ('climat', 'chang'), ('chang', 'shown'), ('shown', 'temperatur'), ('temperatur', 'measur'), ('measur', 'multipl'), ('multipl', 'effect'), ('effect', 'warm'), ('warm', '.'), ('.', 'though'), ('though', 'earlier'), ('earlier', 'geolog'), ('geolog', 'period'), ('period', 'also'), ('also', 'experienc'), ('experienc', 'episod'), ('episod', 'warm'), ('warm', ','), (',', 'term'), ('term', 'commonli'), ('commonli', 'refer'), ('refer', 'observ'), ('observ', 'continu'), ('continu', 'increas'), ('increas', 'averag'), ('averag', 'air'), ('air', 'ocean'), ('ocean', 'temperatur'), ('temperatur', 'sinc'), ('sinc', '1900'), ('1900', 'caus'), ('caus', 'mainli'), ('mainli', 'emiss'), ('emiss', 'greenhous'), ('greenhous', 'gass'), ('gass', 'modern'), ('modern', 'industri'), ('industri', 'economi'), ('economi', '.')]\n",
            "\n",
            "LES BAG OF WORDS\n",
            "Counter({'warm': 3, 'temperatur': 3, 'averag': 2, 'climat': 2, ',': 2, '.': 2, 'global': 1, 'long-term': 1, 'rise': 1, 'earth': 1, \"'s\": 1, 'system': 1, 'aspect': 1, 'chang': 1, 'shown': 1, 'measur': 1, 'multipl': 1, 'effect': 1, 'though': 1, 'earlier': 1, 'geolog': 1, 'period': 1, 'also': 1, 'experienc': 1, 'episod': 1, 'term': 1, 'commonli': 1, 'refer': 1, 'observ': 1, 'continu': 1, 'increas': 1, 'air': 1, 'ocean': 1, 'sinc': 1, '1900': 1, 'caus': 1, 'mainli': 1, 'emiss': 1, 'greenhous': 1, 'gass': 1, 'modern': 1, 'industri': 1, 'economi': 1})\n"
          ]
        }
      ]
    },
    {
      "cell_type": "code",
      "metadata": {
        "id": "EREhK_HYzCjn",
        "colab": {
          "base_uri": "https://localhost:8080/"
        },
        "outputId": "421af534-1b27-4f74-a6cc-e8a1dcfea703"
      },
      "source": [
        "#Uilisation de WordNet our une représentation \"conceptuelle\"\n",
        "from nltk.corpus import wordnet\n",
        "nltk.download('wordnet')\n",
        "\n",
        "\n",
        "word_ = wordnet.synsets(\"happy\")\n",
        "print(word_)\n",
        "print (\"the synset is: \", word_[1].definition())\n"
      ],
      "execution_count": 12,
      "outputs": [
        {
          "output_type": "stream",
          "name": "stdout",
          "text": [
            "[nltk_data] Downloading package wordnet to /root/nltk_data...\n",
            "[nltk_data]   Unzipping corpora/wordnet.zip.\n",
            "[Synset('happy.a.01'), Synset('felicitous.s.02'), Synset('glad.s.02'), Synset('happy.s.04')]\n",
            "the synset is:  marked by good fortune\n"
          ]
        }
      ]
    },
    {
      "cell_type": "markdown",
      "metadata": {
        "id": "mvspvIsGzCjo"
      },
      "source": [
        "## 2- SKLEARN : Vectorisation des textes avec sklearn\n",
        "### on présente plusieurs approches.  "
      ]
    },
    {
      "cell_type": "code",
      "metadata": {
        "id": "Hhd2uF0GzCjo"
      },
      "source": [
        "#NLP avec scikit-learn \n",
        "# Libraire pour la vectorization des textes\n",
        "from sklearn.feature_extraction.text import CountVectorizer\n",
        "from sklearn.feature_extraction.text import TfidfVectorizer\n",
        "\n",
        "#Approche 1: operation en deux étapes fit (pour le vocabulaire) puis tranform (pour construire les vecteurs)  \n",
        "def vectorize_2_steps(text):\n",
        "    cv = CountVectorizer() \n",
        "    #vectorization    \n",
        "    vectors = cv.transform(text)      \n",
        "    return vectors, cv.get_feature_names()\n",
        "\n",
        "#Approche 2: operation fit et transform avec une seule fonction \n",
        "def vectorize_1_step(text):\n",
        "    cv = CountVectorizer() \n",
        "    vectors=cv.fit_transform(text)    \n",
        "    return vectors, cv.get_feature_names()\n",
        "\n",
        "#Approche : operation fit et transform avec une seule fonction on spécifice le type de stopwords \n",
        "# et token_pattern qui donne l'expression régulière permettat la consitution d'un token. \n",
        "def simple_vector(text):\n",
        "    cv = CountVectorizer(stop_words='english',token_pattern=r'\\w+')\n",
        "    vectors = cv.fit_transform(text).todense()  \n",
        "    return vectors, cv.get_feature_names()\n",
        "\n",
        "#approche 4 construction d'un vecteur tf.idf\n",
        "def tf_idf_vector(text):\n",
        "    t = TfidfVectorizer(stop_words='english', token_pattern=r'\\w+')\n",
        "    vectors = t.fit_transform(text).todense()\n",
        "    return vectors\n"
      ],
      "execution_count": 13,
      "outputs": []
    },
    {
      "cell_type": "markdown",
      "metadata": {
        "id": "VXQZGjE7zCjo"
      },
      "source": [
        "### Test sur la vectorisation avec SKlearn"
      ]
    },
    {
      "cell_type": "code",
      "metadata": {
        "id": "-Wi66QdczCjp",
        "colab": {
          "base_uri": "https://localhost:8080/"
        },
        "outputId": "92efc8a2-74cd-4940-a053-0aa405211d69"
      },
      "source": [
        "text=os.path.join(dataset_dir, 'dataN7/text_file1.txt')\n",
        "\n",
        "with open(text_file) as f:    \n",
        "    text=f.readlines()\n",
        "\n",
        "# Construire les vecteurs \n",
        "#Les fonction CountVectorizer, simple façon de \"tokeniser\" un texte, \n",
        "\n",
        "vectors,features = vectorize_1_step(text)\n",
        "\n",
        "# vecteur dense\n",
        "#vectors,features = simple_vector(text)\n",
        "#print(vectors.shape)\n",
        "#print(features)\n",
        "#print(vectors)\n",
        "#print(vectors.toarray())  # affichage mieux que print(vectors) si le vectru n'est pas mis en \"todense()\" dans la fonction\n",
        "\n",
        "vectors= tf_idf_vector(text)\n",
        "print(vectors.shape)\n",
        "print(vectors)\n",
        "\n"
      ],
      "execution_count": 14,
      "outputs": [
        {
          "output_type": "stream",
          "name": "stdout",
          "text": [
            "(2, 38)\n",
            "[[0.         0.         0.21301942 0.15156507 0.         0.21301942\n",
            "  0.42603884 0.         0.         0.         0.21301942 0.\n",
            "  0.21301942 0.         0.         0.         0.         0.\n",
            "  0.21301942 0.         0.         0.         0.21301942 0.\n",
            "  0.21301942 0.         0.21301942 0.         0.         0.\n",
            "  0.         0.21301942 0.21301942 0.21301942 0.42603884 0.\n",
            "  0.15156507 0.30313014]\n",
            " [0.20620208 0.20620208 0.         0.14671448 0.20620208 0.\n",
            "  0.         0.20620208 0.20620208 0.20620208 0.         0.20620208\n",
            "  0.         0.20620208 0.20620208 0.20620208 0.20620208 0.20620208\n",
            "  0.         0.20620208 0.20620208 0.20620208 0.         0.20620208\n",
            "  0.         0.20620208 0.         0.20620208 0.20620208 0.20620208\n",
            "  0.20620208 0.         0.         0.         0.         0.20620208\n",
            "  0.14671448 0.14671448]]\n"
          ]
        },
        {
          "output_type": "stream",
          "name": "stderr",
          "text": [
            "/usr/local/lib/python3.7/dist-packages/sklearn/utils/deprecation.py:87: FutureWarning: Function get_feature_names is deprecated; get_feature_names is deprecated in 1.0 and will be removed in 1.2. Please use get_feature_names_out instead.\n",
            "  warnings.warn(msg, category=FutureWarning)\n"
          ]
        }
      ]
    },
    {
      "cell_type": "markdown",
      "metadata": {
        "id": "63MZUHK2zCjp"
      },
      "source": [
        "## 3- Librairie GENSIM"
      ]
    },
    {
      "cell_type": "markdown",
      "metadata": {
        "id": "jUiKxBumzCjp"
      },
      "source": [
        "#### La première partie donne un exemple 1) \"tokenisation\" assez simple  avec suppression des mots vide, 2) on appelle corpora.Dictionary() pour créer le dictionnaire. (token2id) permet d'afficher le dictionnaire: token avec leur id. \n",
        "En termes de concepts : on trouve la notion Corpus=ensemble de documents. Un document est un texte"
      ]
    },
    {
      "cell_type": "code",
      "metadata": {
        "id": "kcjWFbWCzCjp"
      },
      "source": [
        "from gensim.utils import simple_preprocess\n",
        "from gensim.parsing.preprocessing import remove_stopwords\n",
        "from gensim import corpora\n",
        "import os\n",
        "# Choisir une option lecture du Texte et la procédure de construction des tockens\n",
        "    ## un simple texte\n",
        "#Text =[\"\"\"Global warming is a long-term rise in the average temperature of the Earth s climate system, \n",
        "#       an aspect of climate change shown by temperature measurements and by multiple effects of the warming.\"\"\"]\n",
        "\n",
        "    ## version simple lecture ligne par phrase puis split()\n",
        "#tokens = [[token for token in sentence.split()] for sentence in text]\n",
        "    \n",
        "    ## utilisation du pre_pocessing de gensim\n",
        "#tokens= [simple_preprocess(remove_stopwords(sentence)) for sentence in Text]\n",
        "            #avec suprenssion de mots vides\n",
        "#tokens = [simple_preprocess(remove_stopwords(sentence)) for sentence in Text]\n",
        "\n",
        "    ##Texte dans un Un fichier\n",
        "#tokens=[simple_preprocess(sentence) for sentence in open('data/dataN7/text_file1.txt', encoding='utf-8')]\n",
        "\n",
        "## Plusieurs fichiers dans un répértoire\n",
        "\n",
        "dir_path= os.path.join(dataset_dir,'dataN7')\n",
        "for file_name in os.listdir(dir_path):\n",
        "    if \".txt\" in file_name:  \n",
        "        tokens = [simple_preprocess(remove_stopwords(sentence)) \n",
        "                  for sentence in open(os.path.join(dir_path, file_name), encoding='utf-8')]\n",
        "\n",
        "    ##Construire le dictionnaire: il regroue l'ensemble des termes uniques truvé dans le corpus\n",
        "gensim_dictionary = corpora.Dictionary(tokens)\n",
        "\n",
        "##token2id transform les token en id\n",
        "gensim_dictionary.token2id\n"
      ],
      "execution_count": null,
      "outputs": []
    },
    {
      "cell_type": "markdown",
      "metadata": {
        "id": "TykVy6UazCjp"
      },
      "source": [
        "#### On crée une représentation en sac de mots(terme, fréquence). On effectue une vectorisation du corpus. On utilise  la méthode  doc2bow, de gensim_dictionary. \n",
        "On peut aussi calculer pour chaque mot sa fréquence totale dans le corpus. "
      ]
    },
    {
      "cell_type": "code",
      "metadata": {
        "colab": {
          "base_uri": "https://localhost:8080/"
        },
        "id": "GDNmIe9ezCjq",
        "outputId": "c5170ab4-9a18-48c1-bffc-df1e7ca6b16e"
      },
      "source": [
        "# on crée une rerésentation bag of words poar document. \n",
        "gensim_corpus = [gensim_dictionary.doc2bow(token, allow_update=True) for token in tokens]\n",
        "\n",
        "##Afficher les ID ainsi que leeur fréquence)\n",
        "print(gensim_corpus)\n",
        "\n",
        "## on peut aussi aficher les mots ainsi que leur fréqueence\n",
        "word_frequencies = [[(gensim_dictionary[id], frequence) for id, frequence in couple] for couple in gensim_corpus]\n",
        "\n",
        "print(\"\\n\",word_frequencies)\n",
        "\n"
      ],
      "execution_count": 16,
      "outputs": [
        {
          "output_type": "stream",
          "name": "stdout",
          "text": [
            "[[(0, 1), (1, 1), (2, 1), (3, 2), (4, 1), (5, 1), (6, 1), (7, 1), (8, 1), (9, 1), (10, 1), (11, 1), (12, 1), (13, 2), (14, 1), (15, 2)], [(1, 1), (14, 1), (15, 1), (16, 1), (17, 1), (18, 1), (19, 1), (20, 1), (21, 1), (22, 1), (23, 1), (24, 1), (25, 1), (26, 1), (27, 1), (28, 1), (29, 1), (30, 1), (31, 1), (32, 1), (33, 1), (34, 1), (35, 1), (36, 1), (37, 1)]]\n",
            "\n",
            " [[('aspect', 1), ('average', 1), ('change', 1), ('climate', 2), ('earth', 1), ('effects', 1), ('global', 1), ('long', 1), ('measurements', 1), ('multiple', 1), ('rise', 1), ('shown', 1), ('system', 1), ('temperature', 2), ('term', 1), ('warming', 2)], [('average', 1), ('term', 1), ('warming', 1), ('air', 1), ('caused', 1), ('commonly', 1), ('continuing', 1), ('earlier', 1), ('economy', 1), ('emissions', 1), ('episodes', 1), ('experienced', 1), ('gasses', 1), ('geological', 1), ('greenhouse', 1), ('increase', 1), ('industrial', 1), ('mainly', 1), ('modern', 1), ('observed', 1), ('ocean', 1), ('periods', 1), ('refers', 1), ('temperatures', 1), ('though', 1)]]\n"
          ]
        }
      ]
    },
    {
      "cell_type": "markdown",
      "metadata": {
        "id": "muEHjaVbzCjr"
      },
      "source": [
        "### Une fois que l'on a vectorisé le corpus, on peut utiliser des models () pour transfomer le corpus d'une reprérntation à une autre. \n",
        "Par exemple ci-dessous- on prend le corpus, on crèe un bag of words pondéré par tf.idf (a la SMART (modèle vectriel))). Plus bas o construit un LSI et LDA"
      ]
    },
    {
      "cell_type": "code",
      "metadata": {
        "id": "43UegZdTzCjr"
      },
      "source": [
        "from gensim import models\n",
        "import numpy as np\n",
        "\n",
        "    ## Je récupre le coprus que j'ai construit précédemment\n",
        "    ## J'appelle la méthode TfidfModel de mdels\n",
        "\n",
        "tfidf = models.TfidfModel(gensim_corpus, smartirs='ltc')\n",
        "\n",
        "for doc in tfidf[gensim_corpus]:\n",
        "    print(doc)\n",
        "    for id, frequency in doc:\n",
        "        print(gensim_dictionary[id], np.around(frequency, decimals=2))\n",
        "    \n",
        "    \n"
      ],
      "execution_count": null,
      "outputs": []
    },
    {
      "cell_type": "markdown",
      "metadata": {
        "id": "3apnj8RdzCjr"
      },
      "source": [
        "#### On peut faire de la RI. \n",
        "On construit un index, on claule le vecteur de la requête, puis on calule sa similarité avec les documents. 5etit souci avec cette fonction elle interrompt le kernel?\""
      ]
    },
    {
      "cell_type": "code",
      "metadata": {
        "id": "FCLoD9bBzCjr"
      },
      "source": [
        "from gensim import similarities\n",
        "index = similarities.SparseMatrixSimilarity(tfidf[gensim_corpus],num_features=2)\n",
        "\n",
        "query_document = 'global rise'.split()\n",
        "query_bow = gensim_dictionary.doc2bow(query_document)\n",
        "query_bow\n",
        "simils = index[tfidf[query_bow]]\n",
        "#print(list(enumerate(simils)))\n",
        "\n",
        "for doc, score in sorted(enumerate(simils), key=lambda x: x[1], reverse=True):\n",
        "   print(doc, score)\n",
        "\n",
        "    # Petit souci avec cette fonction le kernel se crache ??"
      ],
      "execution_count": null,
      "outputs": []
    },
    {
      "cell_type": "markdown",
      "metadata": {
        "id": "qxBsQdrCzCjr"
      },
      "source": [
        "#### On peut sauveragder le dictionnaire, le corpus et le modèle LSI"
      ]
    },
    {
      "cell_type": "code",
      "metadata": {
        "id": "DuJTB_d0zCjs"
      },
      "source": [
        "dict=os.path.join(dataset_dir, 'dataN7/gensim_dic')\n",
        "\n",
        "corpus=os.path.join(dataset_dir, 'dataN7/gensim_corpus.mm')\n",
        "gensim_dictionary.save(dict)\n",
        "corpora.MmCorpus.serialize(corpus, gensim_corpus)\n",
        "\n"
      ],
      "execution_count": null,
      "outputs": []
    },
    {
      "cell_type": "markdown",
      "metadata": {
        "id": "h7M7TPlIzCjs"
      },
      "source": [
        "#### chargement des fichiers"
      ]
    },
    {
      "cell_type": "code",
      "metadata": {
        "id": "TjYeW5WQzCjs"
      },
      "source": [
        "dict=os.path.join(dataset_dir, 'dataN7/gensim_dic')\n",
        "\n",
        "corpus=os.path.join(dataset_dir, 'dataN7/gensim_corpus.mm')\n",
        "gensim_dict = corpora.Dictionary()\n",
        "gensim_dict.load(dict)\n",
        "corpus_load = corpora.MmCorpus(corpus)"
      ],
      "execution_count": null,
      "outputs": []
    },
    {
      "cell_type": "markdown",
      "metadata": {
        "id": "w6d-5PBwzCjt"
      },
      "source": [
        "# 2 LSI et LDA: \n",
        "#### LSI et LDA sont des approches permettant de représenter les textes sous forms de vecteurs. LSI exploite une SVD (décomposition en valeurs singulières) et LDA est basé sur les topics models. \n"
      ]
    },
    {
      "cell_type": "code",
      "metadata": {
        "id": "rh3CiW0NzCjt",
        "colab": {
          "base_uri": "https://localhost:8080/"
        },
        "outputId": "509b8143-7cdc-4bb3-f6fa-45c5d710dfe5"
      },
      "source": [
        "import gensim.downloader as api\n",
        "\n",
        "from gensim.utils import simple_preprocess\n",
        "from gensim.parsing.preprocessing import remove_stopwords\n",
        "from gensim import corpora\n",
        "from gensim import models\n",
        "from gensim.models import LsiModel\n",
        "import os\n",
        "\n",
        "#Etape 1 récuperer les documents\n",
        "## on lit les documents à partir d'un fichier (pas besoin de lire plusieurs fois le fichier, \n",
        "#je le fais pour que chque cellule puisse être exécutée séparement. On récupère les mots lémmatisés)\n",
        "\n",
        "#dir_path= os.path.join(dataset_dir,'dataN7')\n",
        "\n",
        "dir_path=os.path.join(dataset_dir,'aclImdb/test/pos')\n",
        "\n",
        "i=0\n",
        "for file_name in os.listdir(dir_path):\n",
        "    if \".txt\" in file_name and i<5:\n",
        "        i+=1\n",
        "        print(file_name)\n",
        "        tokens = [simple_preprocess(remove_stopwords(sentence)) for sentence in open(os.path.join(dir_path, file_name), encoding='utf-8')]\n",
        "\n",
        "#Prendcre un GROS fichier exemple proposé par Gensim\n",
        "#dataset = api.load(\"text8\")\n",
        "#tokens = [d for d in dataset]\n",
        "\n",
        "\n",
        "#Etape 2 Créer les entrées de la fonction LSI : Dictionnaire et le corpus \n",
        "gensim_dictionary = corpora.Dictionary(tokens)\n",
        "gensim_corpus = [gensim_dictionary.doc2bow(token, allow_update=True) for token in tokens]\n",
        "\n",
        "\n",
        "#appel de LsiModel\n",
        "lsi = models.LsiModel(corpus=gensim_corpus, id2word=gensim_dictionary, num_topics=4) \n",
        "\n",
        "lsi.show_topics()\n",
        "\n",
        "filename=os.path.join(dataset_dir,'lsi_model.model')\n",
        "lsi.save(filename)\n"
      ],
      "execution_count": 24,
      "outputs": [
        {
          "output_type": "stream",
          "name": "stdout",
          "text": [
            "11445_8.txt\n",
            "11521_10.txt\n",
            "11504_10.txt\n",
            "11383_10.txt\n",
            "11495_8.txt\n"
          ]
        }
      ]
    },
    {
      "cell_type": "code",
      "metadata": {
        "id": "v9sisGn7zCjt"
      },
      "source": [
        "# charment d'un lsi\n",
        "filename=os.path.join(dataset_dir,'lsi_model.model')\n",
        "lsi_load_model=LsiModel.load(filename)"
      ],
      "execution_count": 25,
      "outputs": []
    },
    {
      "cell_type": "code",
      "metadata": {
        "colab": {
          "base_uri": "https://localhost:8080/"
        },
        "id": "b-lqsJ1DuHr-",
        "outputId": "7415f16d-00e5-41f6-bfec-cfaa90143a94"
      },
      "source": [
        "lsi_load_model.show_topics()"
      ],
      "execution_count": 26,
      "outputs": [
        {
          "output_type": "execute_result",
          "data": {
            "text/plain": [
              "[(0,\n",
              "  '0.413*\"br\" + 0.310*\"film\" + 0.275*\"joline\" + 0.207*\"she\" + 0.172*\"and\" + 0.172*\"character\" + 0.138*\"graham\" + 0.138*\"krueger\" + 0.138*\"it\" + 0.103*\"me\"')]"
            ]
          },
          "metadata": {},
          "execution_count": 26
        }
      ]
    },
    {
      "cell_type": "markdown",
      "metadata": {
        "id": "iPYB1KSkzCjt"
      },
      "source": [
        "## LDA\n",
        "#### On reprend le corpus et le dictionnaire précédents: (gensim_dictionary  et gensim_corpus)"
      ]
    },
    {
      "cell_type": "code",
      "metadata": {
        "id": "-RKWqfhAzCjt",
        "colab": {
          "base_uri": "https://localhost:8080/"
        },
        "outputId": "f7804097-a172-4158-a15e-4edcefb693de"
      },
      "source": [
        "from gensim.models import LdaModel, LdaMulticore\n",
        "\n",
        "lda_model = LdaMulticore(corpus=gensim_corpus,\n",
        "                         id2word=gensim_dictionary,\n",
        "                         random_state=100,\n",
        "                         num_topics=7,\n",
        "                         passes=10,\n",
        "                         chunksize=1000,\n",
        "                         batch=False,\n",
        "                         alpha='asymmetric',\n",
        "                         decay=0.5,\n",
        "                         offset=64,\n",
        "                         eta=None,\n",
        "                         eval_every=0,\n",
        "                         iterations=100,\n",
        "                         gamma_threshold=0.001,\n",
        "                         per_word_topics=True)\n",
        "\n",
        "# save the model\n",
        "\n",
        "filename=os.path.join(dataset_dir,'lda_model.model')\n",
        "lda_model.save(filename)\n",
        "lda_model.print_topics(-1)\n"
      ],
      "execution_count": 27,
      "outputs": [
        {
          "output_type": "execute_result",
          "data": {
            "text/plain": [
              "[(0,\n",
              "  '0.005*\"krueger\" + 0.005*\"percent\" + 0.005*\"people\" + 0.004*\"self\" + 0.004*\"quirky\" + 0.004*\"me\" + 0.004*\"feel\" + 0.004*\"discover\" + 0.004*\"commenter\" + 0.004*\"number\"'),\n",
              " (1,\n",
              "  '0.005*\"again\" + 0.004*\"leave\" + 0.004*\"believe\" + 0.004*\"dismissed\" + 0.004*\"mistakes\" + 0.004*\"promises\" + 0.004*\"time\" + 0.004*\"yep\" + 0.004*\"slightly\" + 0.004*\"urban\"'),\n",
              " (2,\n",
              "  '0.023*\"br\" + 0.018*\"film\" + 0.016*\"joline\" + 0.012*\"she\" + 0.010*\"character\" + 0.010*\"and\" + 0.009*\"krueger\" + 0.009*\"graham\" + 0.008*\"it\" + 0.007*\"lo\"'),\n",
              " (3,\n",
              "  '0.007*\"br\" + 0.006*\"film\" + 0.006*\"and\" + 0.006*\"joline\" + 0.005*\"me\" + 0.005*\"character\" + 0.004*\"it\" + 0.004*\"she\" + 0.004*\"looking\" + 0.004*\"devotion\"'),\n",
              " (4,\n",
              "  '0.005*\"joline\" + 0.005*\"br\" + 0.004*\"performances\" + 0.004*\"she\" + 0.004*\"voice\" + 0.004*\"looking\" + 0.004*\"easy\" + 0.004*\"if\" + 0.004*\"stalkers\" + 0.004*\"movie\"'),\n",
              " (5,\n",
              "  '0.005*\"character\" + 0.004*\"graham\" + 0.004*\"faith\" + 0.004*\"joline\" + 0.004*\"several\" + 0.004*\"br\" + 0.004*\"film\" + 0.004*\"el\" + 0.004*\"day\" + 0.004*\"understands\"'),\n",
              " (6,\n",
              "  '0.004*\"movie\" + 0.004*\"as\" + 0.004*\"log\" + 0.004*\"devotion\" + 0.004*\"belief\" + 0.004*\"normals\" + 0.004*\"success\" + 0.004*\"funny\" + 0.004*\"guess\" + 0.004*\"br\"')]"
            ]
          },
          "metadata": {},
          "execution_count": 27
        }
      ]
    },
    {
      "cell_type": "code",
      "metadata": {
        "id": "mEYOvlQWzCjt",
        "colab": {
          "base_uri": "https://localhost:8080/",
          "height": 286
        },
        "outputId": "6f92e465-02a4-4152-d740-77b529e1d25e"
      },
      "source": [
        "for c in lda_model[gensim_corpus[5:8]]:\n",
        "    print(\"Document Topics      : \", c[0])      # [(Topics, Perc Contrib)]\n",
        "    print(\"Word id, Topics      : \", c[1][:3])  # [(Word id, [Topics])]\n",
        "    print(\"Phi Values (word id) : \", c[2][:2])  # [(Word id, [(Topic, Phi Value)])]\n",
        "    print(\"Word, Topics         : \", [(gensim_dictionary[wd], topic) for wd, topic in c[1][:2]])   # [(Word, [Topics])]\n",
        "    print(\"Phi Values (word)    : \", [(gensim_dictionary[wd], topic) for wd, topic in c[2][:2]])  # [(Word, [(Topic, Phi Value)])]\n",
        "    print(\"------------------------------------------------------\\n\")"
      ],
      "execution_count": 53,
      "outputs": [
        {
          "output_type": "stream",
          "name": "stdout",
          "text": [
            "Document Topics      :  0\n"
          ]
        },
        {
          "output_type": "error",
          "ename": "IndexError",
          "evalue": "ignored",
          "traceback": [
            "\u001b[0;31m---------------------------------------------------------------------------\u001b[0m",
            "\u001b[0;31mIndexError\u001b[0m                                Traceback (most recent call last)",
            "\u001b[0;32m<ipython-input-53-328512cfc00e>\u001b[0m in \u001b[0;36m<module>\u001b[0;34m()\u001b[0m\n\u001b[1;32m      1\u001b[0m \u001b[0;32mfor\u001b[0m \u001b[0mc\u001b[0m \u001b[0;32min\u001b[0m \u001b[0mlda_model\u001b[0m\u001b[0;34m[\u001b[0m\u001b[0mgensim_corpus\u001b[0m\u001b[0;34m[\u001b[0m\u001b[0;36m5\u001b[0m\u001b[0;34m:\u001b[0m\u001b[0;36m8\u001b[0m\u001b[0;34m]\u001b[0m\u001b[0;34m]\u001b[0m\u001b[0;34m:\u001b[0m\u001b[0;34m\u001b[0m\u001b[0;34m\u001b[0m\u001b[0m\n\u001b[1;32m      2\u001b[0m     \u001b[0mprint\u001b[0m\u001b[0;34m(\u001b[0m\u001b[0;34m\"Document Topics      : \"\u001b[0m\u001b[0;34m,\u001b[0m \u001b[0mc\u001b[0m\u001b[0;34m[\u001b[0m\u001b[0;36m0\u001b[0m\u001b[0;34m]\u001b[0m\u001b[0;34m)\u001b[0m      \u001b[0;31m# [(Topics, Perc Contrib)]\u001b[0m\u001b[0;34m\u001b[0m\u001b[0;34m\u001b[0m\u001b[0m\n\u001b[0;32m----> 3\u001b[0;31m     \u001b[0mprint\u001b[0m\u001b[0;34m(\u001b[0m\u001b[0;34m\"Word id, Topics      : \"\u001b[0m\u001b[0;34m,\u001b[0m \u001b[0mc\u001b[0m\u001b[0;34m[\u001b[0m\u001b[0;36m1\u001b[0m\u001b[0;34m]\u001b[0m\u001b[0;34m[\u001b[0m\u001b[0;34m:\u001b[0m\u001b[0;36m3\u001b[0m\u001b[0;34m]\u001b[0m\u001b[0;34m)\u001b[0m  \u001b[0;31m# [(Word id, [Topics])]\u001b[0m\u001b[0;34m\u001b[0m\u001b[0;34m\u001b[0m\u001b[0m\n\u001b[0m\u001b[1;32m      4\u001b[0m     \u001b[0mprint\u001b[0m\u001b[0;34m(\u001b[0m\u001b[0;34m\"Phi Values (word id) : \"\u001b[0m\u001b[0;34m,\u001b[0m \u001b[0mc\u001b[0m\u001b[0;34m[\u001b[0m\u001b[0;36m2\u001b[0m\u001b[0;34m]\u001b[0m\u001b[0;34m[\u001b[0m\u001b[0;34m:\u001b[0m\u001b[0;36m2\u001b[0m\u001b[0;34m]\u001b[0m\u001b[0;34m)\u001b[0m  \u001b[0;31m# [(Word id, [(Topic, Phi Value)])]\u001b[0m\u001b[0;34m\u001b[0m\u001b[0;34m\u001b[0m\u001b[0m\n\u001b[1;32m      5\u001b[0m     \u001b[0mprint\u001b[0m\u001b[0;34m(\u001b[0m\u001b[0;34m\"Word, Topics         : \"\u001b[0m\u001b[0;34m,\u001b[0m \u001b[0;34m[\u001b[0m\u001b[0;34m(\u001b[0m\u001b[0mgensim_dictionary\u001b[0m\u001b[0;34m[\u001b[0m\u001b[0mwd\u001b[0m\u001b[0;34m]\u001b[0m\u001b[0;34m,\u001b[0m \u001b[0mtopic\u001b[0m\u001b[0;34m)\u001b[0m \u001b[0;32mfor\u001b[0m \u001b[0mwd\u001b[0m\u001b[0;34m,\u001b[0m \u001b[0mtopic\u001b[0m \u001b[0;32min\u001b[0m \u001b[0mc\u001b[0m\u001b[0;34m[\u001b[0m\u001b[0;36m1\u001b[0m\u001b[0;34m]\u001b[0m\u001b[0;34m[\u001b[0m\u001b[0;34m:\u001b[0m\u001b[0;36m2\u001b[0m\u001b[0;34m]\u001b[0m\u001b[0;34m]\u001b[0m\u001b[0;34m)\u001b[0m   \u001b[0;31m# [(Word, [Topics])]\u001b[0m\u001b[0;34m\u001b[0m\u001b[0;34m\u001b[0m\u001b[0m\n",
            "\u001b[0;31mIndexError\u001b[0m: invalid index to scalar variable."
          ]
        }
      ]
    },
    {
      "cell_type": "code",
      "metadata": {
        "id": "mnt1Xd8XxDDO"
      },
      "source": [
        "pip install pyLDAvis"
      ],
      "execution_count": null,
      "outputs": []
    },
    {
      "cell_type": "code",
      "metadata": {
        "id": "dq4HsyqPzCju"
      },
      "source": [
        "import pyLDAvis\n",
        "import pyLDAvis.gensim\n",
        "pyLDAvis.enable_notebook()\n",
        "vis = pyLDAvis.gensim.prepare(lda_model, gensim_corpus, gensim_dictionary)\n",
        "vis"
      ],
      "execution_count": null,
      "outputs": []
    },
    {
      "cell_type": "code",
      "metadata": {
        "id": "I39ee1UbzCju",
        "colab": {
          "base_uri": "https://localhost:8080/"
        },
        "outputId": "5900246c-4800-47ef-d3c7-b14b7d3faea8"
      },
      "source": [
        "## \n",
        "#O construit des topics model à partir de son propre fichier.\n",
        "from gensim.models import LdaModel, LdaMulticore\n",
        "from gensim.utils import simple_preprocess, lemmatize\n",
        "\n",
        "#my_dict, my_corpus=get_dict_corpus()\n",
        "    \n",
        "# récpepr le dictionnaire et le corpus\n",
        "my_dict = corpora.Dictionary.load(os.path.join(dataset_dir,'dataN7/gensim_dic'))\n",
        "my_corpus = corpora.MmCorpus(os.path.join(dataset_dir,'dataN7/gensim_corpus.mm'))\n",
        "\n",
        "#reécupérer ue représentation d'un document\n",
        "\n",
        "lda_model = models.LdaMulticore(my_corpus,id2word=my_dict,random_state=100,num_topics=5)\n",
        "\n",
        "#lda_model.print_topics(-1)\n",
        "lda_model.show_topics()\n",
        "\n",
        "\n",
        "# lire les fichiers\n",
        "\n",
        "lda_model[my_corpus]\n",
        "\n",
        "#for c in lda_model[my_corpus[0:3]]:\n",
        "#    print(\"Document Topics      : \", c[0])      # [(Topics, Perc Contrib)]\n",
        "#    print(\"Word id, Topics      : \", c[1][:])  # [(Word id, [Topics])]\n",
        "#    print(\"Phi Values (word id) : \", c[2][:2])  # [(Word id, [(Topic, Phi Value)])]\n",
        "#    print(\"Word, Topics         : \", [(my_dict[wd], topic) for wd, topic in c[1][:2]])   # [(Word, [Topics])]\n",
        "#    print(\"Phi Values (word)    : \", [(my_dict[wd], topic) for wd, topic in c[2][:2]])  # [(Word, [(Topic, Phi Value)])]\n",
        "    #print(\"------------------------------------------------------\\n\")\n"
      ],
      "execution_count": 54,
      "outputs": [
        {
          "output_type": "execute_result",
          "data": {
            "text/plain": [
              "<gensim.interfaces.TransformedCorpus at 0x7f5d6f9c2c50>"
            ]
          },
          "metadata": {},
          "execution_count": 54
        }
      ]
    },
    {
      "cell_type": "markdown",
      "metadata": {
        "id": "GRsLNbBXzCju"
      },
      "source": [
        "# 3- Word2Vec Sous GENSIM\n",
        "#### Nous allons traiter deux types d'exemples. Utilisation des vecteurs (W2VEC) Préentrainés : Word2Vec, Glove et FastText. On peut utiliser soit le fichier .bin (le binaire) directement comme ci-dessous.\n",
        "On utilisera la classe Gensim Word2Vec de Gensim"
      ]
    },
    {
      "cell_type": "code",
      "metadata": {
        "id": "JT6go8y5zCju",
        "colab": {
          "base_uri": "https://localhost:8080/"
        },
        "outputId": "4db8c49a-b30b-430e-b15c-32ddbd940930"
      },
      "source": [
        "from gensim.models import KeyedVectors\n",
        "import os\n",
        "# load the google word2vec model\n",
        "filename=os.path.join(dataset_dir,'pre_trained_emb/GoogleNews-vectors-negative300.bin')\n",
        "\n",
        "if os.path.exists(filename) : \n",
        "    #charge le \"model\" en mémoire\n",
        "    model1 = KeyedVectors.load_word2vec_format(filename, binary=True)\n",
        "else:\n",
        "    print('le fichier n existe pas')"
      ],
      "execution_count": 55,
      "outputs": [
        {
          "output_type": "stream",
          "name": "stdout",
          "text": [
            "le fichier n existe pas\n"
          ]
        }
      ]
    },
    {
      "cell_type": "markdown",
      "metadata": {
        "id": "cYrw1NobzCju"
      },
      "source": [
        "#### Dans le cas de Glove, il est proposé sous format .txt, son utilisation nécessite une conversion vers le format Word2Vec"
      ]
    },
    {
      "cell_type": "code",
      "metadata": {
        "id": "3mlOetSMzCju"
      },
      "source": [
        "from gensim.models import KeyedVectors\n",
        "from gensim.scripts.glove2word2vec import glove2word2vec\n",
        "\n",
        "#Utilisation de Glove de Stanford \n",
        "#The first step is to convert the GloVe file format to the word2vec file format. \n",
        "glove_input_file = os.path.join(dataset_dir,'pre_trained_emb/Glove/glove.6B.300d.txt')\n",
        "glove_output_file = os.path.join(dataset_dir,'pre_trained_emb/Glove/glove.6B.300d.txt.word2vec')\n",
        "\n",
        "if os.path.exists(glove_input_file ) : \n",
        "  #convert txt en word2Vec Format\n",
        "  glove2word2vec(glove_input_file, glove_output_file)\n",
        "  # UNE FOIS CONVERTI, On UTILISE LE MODELE comme ci-dessous\n",
        "  # load the converted model\n",
        "  glove_model = KeyedVectors.load_word2vec_format(glove_output_file, binary=False)\n",
        "else:\n",
        "    print('le fichier n existe pas')\n",
        "    "
      ],
      "execution_count": 41,
      "outputs": []
    },
    {
      "cell_type": "code",
      "source": [
        "#trouver les termes siilaires # Avec Glove\n",
        "glove_model.most_similar('france',topn=5)\n"
      ],
      "metadata": {
        "colab": {
          "base_uri": "https://localhost:8080/"
        },
        "id": "IRQ91sk42o_v",
        "outputId": "9dee5071-e741-4ea6-f5f6-faaf2ea612d3"
      },
      "execution_count": 47,
      "outputs": [
        {
          "output_type": "execute_result",
          "data": {
            "text/plain": [
              "[('french', 0.7344760894775391),\n",
              " ('paris', 0.6580672264099121),\n",
              " ('belgium', 0.620672345161438),\n",
              " ('spain', 0.573593258857727),\n",
              " ('italy', 0.5643459558486938)]"
            ]
          },
          "metadata": {},
          "execution_count": 47
        }
      ]
    },
    {
      "cell_type": "markdown",
      "metadata": {
        "id": "GQhamgrxzCjv"
      },
      "source": [
        "### Gensim propose une api (gensim.downloader) qui permet de charger le fichier (à prtir de votre ordniteur si il existe dans gensim-data/ ou , le télécharger à partir d'un site extérieur ça peut prendre du temps"
      ]
    },
    {
      "cell_type": "code",
      "metadata": {
        "id": "147i5DyRzCjv"
      },
      "source": [
        "# Gensim propose une api (ci dessous) qui permet de charger le fichier (de votre ordnitauer si il existe dans gensim-data/ \n",
        "#ou , le téléchargé à partir d'un site extérieur ça peut prendre du temps\n",
        "import gensim.downloader as api\n",
        "\n",
        "# Download the models\n",
        "#ça pourrait prendre un peu de temps si vous l'avez pas localement dans la librarire de gensim\")\n",
        "fasttext_model = api.load('fasttext-wiki-news-subwords-300')\n",
        "word2vec_model = api.load('word2vec-google-news-300')\n",
        "glove_model = api.load('glove-wiki-gigaword-300')"
      ],
      "execution_count": null,
      "outputs": []
    },
    {
      "cell_type": "markdown",
      "metadata": {
        "id": "G8C6ZWm5zCjv"
      },
      "source": [
        "## On peut jouer avec les modèles chargés"
      ]
    },
    {
      "cell_type": "code",
      "metadata": {
        "id": "5a8FfknxzCjv"
      },
      "source": [
        "#calul de la similarité\n",
        "\n",
        "# avec Word2Vec\n",
        "word2vec_model.most_similar('trump',topn=5)\n",
        "\n",
        "# avec FastText\n",
        "fasttext_model.most_similar('trump',topn=5)\n",
        "\n",
        "# Avec Glove\n",
        "glove_model.most_similar('trump',topn=5)\n",
        "\n"
      ],
      "execution_count": null,
      "outputs": []
    },
    {
      "cell_type": "markdown",
      "metadata": {
        "id": "Sn7i2NO6zCjw"
      },
      "source": [
        "#### Comme on maniplue des vecteurs, on peut s'amuser à faire ce type de calcul (Vect(king)-Vect(man)+Vect(woman) .... le vecteur résultat est proche du vecteur du mot \"Queen\"."
      ]
    },
    {
      "cell_type": "code",
      "metadata": {
        "id": "tDAIRxDAzCjw",
        "colab": {
          "base_uri": "https://localhost:8080/"
        },
        "outputId": "4a758694-9476-4e49-c7b2-ba191445f723"
      },
      "source": [
        "# calculate: (king - man) + woman = ?\n",
        "#result = word2vec_model.most_similar(positive=['woman', 'king'], negative=['man'], topn=1)\n",
        "result = glove_model.most_similar(positive=['woman', 'king'], negative=['man'], topn=3)\n",
        "print(result)"
      ],
      "execution_count": 50,
      "outputs": [
        {
          "output_type": "stream",
          "name": "stdout",
          "text": [
            "[('queen', 0.6713277101516724), ('princess', 0.5432624220848083), ('throne', 0.5386104583740234)]\n"
          ]
        }
      ]
    },
    {
      "cell_type": "markdown",
      "metadata": {
        "id": "BUVEqrOezCjw"
      },
      "source": [
        "#### Calculer la similarité entre phrases"
      ]
    },
    {
      "cell_type": "code",
      "metadata": {
        "id": "gTqTQr2NzCjw",
        "colab": {
          "base_uri": "https://localhost:8080/"
        },
        "outputId": "a231a3f5-75aa-4a68-b82d-d129d1721a15"
      },
      "source": [
        "\n",
        "sent_1 = 'Sachin is a cricket player and a opening batsman'.split()\n",
        "sent_2 = 'Dhoni is a cricket player too He is a batsman and keeper'.split()\n",
        "sent_3 = 'Anand is a chess player'.split()\n",
        "\n",
        "# Prepare a dictionary and a corpus.\n",
        "#similarity = word2vec_model.wmdistance(sent_1, sent_2)\n",
        "similarity = glove_model.wmdistance(sent_1, sent_2) \n",
        "print(f\"{similarity:.4f}\")\n"
      ],
      "execution_count": 51,
      "outputs": [
        {
          "output_type": "stream",
          "name": "stdout",
          "text": [
            "1.9887\n"
          ]
        }
      ]
    },
    {
      "cell_type": "code",
      "metadata": {
        "id": "-7Ib73T2zCjw"
      },
      "source": [
        "from gensim.matutils import softcossim\n",
        "from gensim import corpora\n",
        "\n",
        "sent_1 = 'Sachin is a cricket player and a opening batsman'.split()\n",
        "sent_2 = 'Dhoni is a cricket player too He is a batsman and keeper'.split()\n",
        "sent_3 = 'Anand is a chess player'.split()\n",
        "\n",
        "# Prepare a dictionary and a corpus.\n",
        "documents = [sent_1, sent_2, sent_3]\n",
        "dictionary = corpora.Dictionary(documents)\n",
        "\n",
        "# Prepare the similarity matrix\n",
        "similarity_matrix = word2vec_model300.similarity_matrix(dictionary, tfidf=None, threshold=0.0, exponent=2.0, nonzero_limit=100)\n",
        "\n",
        "# Convert the sentences into bag-of-words vectors.\n",
        "sent_1 = dictionary.doc2bow(sent_1)\n",
        "sent_2 = dictionary.doc2bow(sent_2)\n",
        "sent_3 = dictionary.doc2bow(sent_3)\n",
        "\n",
        "# Compute soft cosine similarity\n",
        "print(softcossim(sent_1, sent_2, similarity_matrix))\n",
        "print(softcossim(sent_1, sent_3, similarity_matrix))\n",
        "print(softcossim(sent_2, sent_3, similarity_matrix))\n"
      ],
      "execution_count": null,
      "outputs": []
    },
    {
      "cell_type": "markdown",
      "metadata": {
        "id": "Kact0VvnzCjw"
      },
      "source": [
        "### Creation de son propre word2Vec"
      ]
    },
    {
      "cell_type": "code",
      "metadata": {
        "id": "U0mozV_czCjw"
      },
      "source": [
        "from gensim.models import Word2Vec\n",
        "from multiprocessing import cpu_count\n",
        "import gensim.downloader as api\n",
        "\n",
        "# Download dataset (texte disponible sur gensim)\n",
        "dataset = api.load(\"text8\")\n",
        "\n",
        "data = [d for d in dataset]\n",
        "\n",
        "# Split the data into 2 parts. Part 2 will be used later to update the model\n",
        "data_part1 = data[:1000]\n",
        "data_part2 = data[1000:]\n",
        "\n",
        "# Train Word2Vec model. Defaults result vector size = 100\n",
        "model = Word2Vec(data_part1, min_count = 1, workers=cpu_count())\n",
        "\n",
        "# summarize the loaded model\n",
        "print(model)\n",
        "# summarize vocabulary\n",
        "words = list(model.wv.vocab)\n",
        "#print(words)\n",
        "\n",
        "# Save and Load Model\n",
        "model.save('data/Text8_W2Vec')\n",
        "model = Word2Vec.load('data/Text8_W2Vec')\n",
        "\n",
        "\n"
      ],
      "execution_count": null,
      "outputs": []
    },
    {
      "cell_type": "code",
      "metadata": {
        "id": "LH6h12k-zCjx"
      },
      "source": [
        "# access vector for one word\n",
        "print(model['sentence'])\n"
      ],
      "execution_count": null,
      "outputs": []
    },
    {
      "cell_type": "markdown",
      "metadata": {
        "id": "2Stx1kGMzCjy"
      },
      "source": [
        "### Mise à jour d'un W2Vec (on prend la 2nde partie de notre fichier data[])"
      ]
    },
    {
      "cell_type": "code",
      "metadata": {
        "id": "HrKQTymtzCjy"
      },
      "source": [
        "# Update the model with new data.\n",
        "model.build_vocab(data_part2, update=True)\n",
        "model.train(data_part2, total_examples=model.corpus_count, epochs=model.iter)\n",
        "model['topic']\n"
      ],
      "execution_count": null,
      "outputs": []
    },
    {
      "cell_type": "markdown",
      "metadata": {
        "id": "-aBbe6rpzCjy"
      },
      "source": [
        "## Autres création d'un W2Vec"
      ]
    },
    {
      "cell_type": "code",
      "metadata": {
        "id": "f0S1WmM5zCjy"
      },
      "source": [
        "import gensim\n",
        "from gensim.models import Word2Vec\n",
        "from multiprocessing import cpu_count\n",
        "from gensim.utils import simple_preprocess\n",
        "from gensim.parsing.preprocessing import remove_stopwords\n",
        "import os\n",
        "\n",
        "#dir_path = os.path.join(dataset_dir,, 'dataN7')\n",
        "dir_path = os.path.join(dataset_dir,'aclImdb/test/pos')\n",
        "\n",
        "i=0\n",
        "for file_name in os.listdir(dir_path):\n",
        "    if \".txt\" in file_name and i<100:  \n",
        "        i+=1\n",
        "        print(file_name)\n",
        "        tokens = [simple_preprocess(sentence) for sentence in open(os.path.join(dir_path, file_name), encoding='utf-8')]\n",
        "\n",
        "print(len(tokens))\n",
        "        \n",
        "model = Word2Vec(tokens, min_count = 1, workers=cpu_count())\n",
        "\n",
        "# summarize the loaded model\n",
        "print(model)\n",
        "# summarize vocabulary\n",
        "words = list(model.wv.vocab)\n",
        "print(words)\n",
        "# access vector for one word\n",
        "#print(model['sentence'])\n",
        "\n",
        "# access vector for one word\n",
        "print(\"le vecteur du mot est \", model['the'])\n",
        "\n"
      ],
      "execution_count": null,
      "outputs": []
    },
    {
      "cell_type": "code",
      "metadata": {
        "id": "9Hd75pdrzCjy"
      },
      "source": [
        "#save the model\n",
        "dir_path = os.path.join(dataset_dir,\"dataN7\")\n",
        "model.save(dir_path'/w2vec_model')\n"
      ],
      "execution_count": null,
      "outputs": []
    },
    {
      "cell_type": "code",
      "metadata": {
        "id": "4LwtzKonzCjz"
      },
      "source": [
        "#Save model en ascii \n",
        "model.wv.save_word2vec_format(dir_path'/w2vec_model_ascii', binary=False)"
      ],
      "execution_count": null,
      "outputs": []
    },
    {
      "cell_type": "code",
      "metadata": {
        "id": "liNa_itozCjz"
      },
      "source": [
        "#Load the model\n",
        "model = Word2Vec.load(dir_path'/dataN7/w2vec_model')\n"
      ],
      "execution_count": null,
      "outputs": []
    },
    {
      "cell_type": "code",
      "metadata": {
        "id": "f1dK1r4YzCjz"
      },
      "source": [
        "# summarize vocabulary\n",
        "words = list(model.wv.vocab)\n",
        "print(words)\n"
      ],
      "execution_count": null,
      "outputs": []
    },
    {
      "cell_type": "code",
      "metadata": {
        "id": "6LaZYOjfzCjz"
      },
      "source": [
        "print(model['rise'])"
      ],
      "execution_count": null,
      "outputs": []
    },
    {
      "cell_type": "markdown",
      "metadata": {
        "id": "AP8_AKMEzCjz"
      },
      "source": [
        "### Viualisation des Wor2Vec\n"
      ]
    },
    {
      "cell_type": "code",
      "metadata": {
        "id": "Nqufv40PzCj0",
        "outputId": "1c764b07-87e3-47f9-8e3e-4d48ee0582b2",
        "colab": {
          "base_uri": "https://localhost:8080/",
          "height": 326
        }
      },
      "source": [
        "import matplotlib\n",
        "from matplotlib import pyplot\n",
        "from sklearn.decomposition import PCA\n",
        "\n",
        "\n",
        "### Pour cela on a besoin de récuperer le vocabulaire\n",
        "Z = model[model.wv.vocab]\n",
        "\n",
        "## utiise ue PCA \n",
        "pca = PCA(n_components=2)\n",
        "result = pca.fit_transform(Z)\n",
        "\n",
        "# on dessine le résultat de la projection\n",
        "pyplot.scatter(result[:,0],result[:,1])\n",
        "\n",
        "# On annote les points par les noms des termes.\n",
        "words = list(model.wv.vocab)\n",
        "for i, word in enumerate(words):\n",
        "   pyplot.annotate(word, xy=(result[i, 0], result[i, 1]))\n",
        "pyplot.show()\n",
        "\n",
        "\n"
      ],
      "execution_count": 76,
      "outputs": [
        {
          "output_type": "stream",
          "name": "stderr",
          "text": [
            "/usr/local/lib/python3.7/dist-packages/ipykernel_launcher.py:7: DeprecationWarning: Call to deprecated `__getitem__` (Method will be removed in 4.0.0, use self.wv.__getitem__() instead).\n",
            "  import sys\n"
          ]
        },
        {
          "output_type": "display_data",
          "data": {
            "image/png": "[encoded data removed]",
            "text/plain": [
              "<Figure size 432x288 with 1 Axes>"
            ]
          },
          "metadata": {
            "needs_background": "light"
          }
        }
      ]
    },
    {
      "cell_type": "markdown",
      "metadata": {
        "id": "G2tVakGxzCj0"
      },
      "source": [
        "# Construction d'un fichier TF*IDF"
      ]
    },
    {
      "cell_type": "code",
      "metadata": {
        "id": "jLE2Aw23zCj0"
      },
      "source": [
        "from gensim.utils import simple_preprocess\n",
        "from smart_open import smart_open\n",
        "import os\n",
        "# Create gensim dictionary form a single tet file\n",
        "dictionary = corpora.Dictionary(simple_preprocess(line, deacc=True) for line in open('data/dataN7/text_file1.txt', encoding='utf-8'))\n",
        "\n",
        "dictionary.token2id"
      ],
      "execution_count": null,
      "outputs": []
    },
    {
      "cell_type": "code",
      "metadata": {
        "id": "Ebxm3_oNzCj0"
      },
      "source": [
        "min_count = 0\n",
        "size = 50\n",
        "window = 3\n",
        "corpus=[]\n",
        "\n",
        "#construire son propre w2Vec\n",
        "for sentence in texte:\n",
        "    corpus.append(sentence.split())\n",
        "    model = Word2Vec(corpus, min_count=min_count, size=size, window=window)\n",
        "\n",
        "#pprint(model.most_similar('the'))\n",
        "# appeler un W2Vec \n",
        "#print(\"début\")\n",
        "#model = gensim.models.KeyedVectors.load_word2vec_format('data/GoogleNews-vectors-negative300.bin', binary=True)\n",
        "\n",
        "#pprint(\"fin\")\n",
        "#pprint(model.most_similar('hello'))\n",
        "#pprint(\"fin2\")                                                     \n",
        "#tokens_s=[]\n",
        "#for token in texte:\n",
        "    # tokens_s.append(stemmer.stem(token))\n",
        "    # tokens_s.append(lemmatizer.lemmatize(token))"
      ],
      "execution_count": null,
      "outputs": []
    }
  ]
}