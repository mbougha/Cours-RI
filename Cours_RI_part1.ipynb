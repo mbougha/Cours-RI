{
 "cells": [
  {
   "cell_type": "markdown",
   "metadata": {},
   "source": [
    "# Cours Introduction à la Recherche d'Information à l'N7"
   ]
  },
  {
   "cell_type": "raw",
   "metadata": {},
   "source": [
    "Il existe différentes librairies sous Python pour analyser le texte. L'analyse peut consister à extraire les mots simples, jusqu'à l'analyse un peu plus \"poussée\", vecteurs de mots pondérés, représentations continues (LSI, LDA, embedings,..).\n",
    "De manière générale le  \"text processing\" passe par les étapes suivantes=\n",
    "    - tokenizer avec ou sans suppression de mots vides\n",
    "    - construction du vocabulaire (le dictionnaire): vocabulary—lexicon\n",
    "    - vectorisation d'un texte\n",
    "  "
   ]
  },
  {
   "cell_type": "markdown",
   "metadata": {},
   "source": [
    "## Il existe dfférentes librairies qui assurent ces fonctions d'analyse de textes: NTK, SKLEAR, Gensim."
   ]
  },
  {
   "cell_type": "markdown",
   "metadata": {},
   "source": [
    "### 1 - NLTK\n",
    "La fonction ci-dessous montre deux fonctions la première construit à partir d'un texte, son sac de mots (le texte en question est segmenté (split), tockenize, suppression des mots vides normalisation puis comptage. \n",
    "La seconde fonction fait un comptage (bag f words avec les fréquence des mots)."
   ]
  },
  {
   "cell_type": "code",
   "execution_count": null,
   "metadata": {},
   "outputs": [],
   "source": [
    "#NLTK\n",
    "import nltk\n",
    "\n",
    "from nltk.stem import PorterStemmer, WordNetLemmatizer\n",
    "from nltk.corpus import stopwords\n",
    "from nltk import word_tokenize, sent_tokenize #TweetTokenizer\n",
    "from nltk.util import ngrams\n",
    "from nltk.probability import FreqDist\n",
    "\n",
    "from pprint import pprint\n",
    "\n",
    "#NLTK\n",
    "#- tokenizer—scanner, lexical analyzer\n",
    "def extraire_bag_of_words(texte, type_norma):  \n",
    "    stemmer = PorterStemmer()\n",
    "    lemmatizer = WordNetLemmatizer()\n",
    "\n",
    "    # Method-1 : Individual words as separate elements of the list   \n",
    "    #text split extraire tous les mots, séparateurs, ...\n",
    "    texte_split=texte.split()\n",
    "    \n",
    "    # seuls les mots (tokens) sont extraits) \n",
    "    texte = word_tokenize(texte.lower())\n",
    "    \n",
    "    # suppression des stop words\n",
    "    stop_words = set(stopwords.words('english'))\n",
    "\n",
    "    #Liste des mots sans les mots vides\n",
    "    new_tokens = [w for w in texte if not w in stop_words]\n",
    "    # Liste des mots normalisés (selon Porter)\n",
    "    if type_norma=='porter':      \n",
    "        new_tokens = [stemmer.stem(w) for w in texte if not w in stop_words]\n",
    "        #print(\"Normalisation selon Porter\")\n",
    "        #print(new_tokens)\n",
    "\n",
    "    # Liste des mots normalisés (selon Lemmatiseur)\n",
    "    if type_norma=='lemmatizer':      \n",
    "        new_tokens = [lemmatizer.lemmatize(w) for w in texte if not w in stop_words]\n",
    "        #print(\"Normalisation selon lemmatiseur\")\n",
    "        #print(new_tokens)\n",
    "    \n",
    "    return new_tokens\n",
    "\n",
    "def count_words(tokens):\n",
    "    # librairie pour le comptage des mots\n",
    "    from collections import Counter\n",
    "    bag_of_words = Counter(tokens)\n",
    "    return bag_of_words\n",
    "\n",
    "\n"
   ]
  },
  {
   "cell_type": "markdown",
   "metadata": {},
   "source": [
    "### Test sur la conctruction du sac de mots (fonction ci-dessus)."
   ]
  },
  {
   "cell_type": "code",
   "execution_count": null,
   "metadata": {},
   "outputs": [],
   "source": [
    "text_file = '../exemples/data/sample.txt'\n",
    "with open(text_file) as f:\n",
    "        text=f.read()\n",
    "\n",
    "##Extraire les mots simple et lémamtiser avec Porter ou un lemattizar plus sophistiqué (par exemple WordNet)\n",
    "\n",
    "tokens=extraire_bag_of_words(text,'porter')\n",
    "#tokens=extraire_bag_of_words(text,'lemmatizer')\n",
    "\n",
    "print(\"LES TOKENS:\")\n",
    "print(tokens)\n",
    "\n",
    "#récuperer la liste des n grammes (récupérer les mots adjenents 2 à deux.)\n",
    "print()\n",
    "list(ngrams(tokens,2))\n",
    "print('LES nGRAMs')\n",
    "print(list(ngrams(tokens,2)))\n",
    "\n",
    "# compter les tokens (construire le bag of words (Mot,count))\n",
    "bag_words=count_words(tokens)\n",
    "print(\"\\nLES BAG OF WORDS\")\n",
    "print(bag_words)\n"
   ]
  },
  {
   "cell_type": "code",
   "execution_count": null,
   "metadata": {},
   "outputs": [],
   "source": [
    "#Uilisation de WordNet our une représentation \"conceptuelle\"\n",
    "from nltk.corpus import wordnet\n",
    "\n",
    "word_ = wordnet.synsets(\"spectacular\")\n",
    "print (word_[2].definition())\n"
   ]
  },
  {
   "cell_type": "markdown",
   "metadata": {},
   "source": [
    "## 2- SKLEARN : Vectorisation des textes avec sklearn\n",
    "### on présente plusieurs approches.  "
   ]
  },
  {
   "cell_type": "code",
   "execution_count": null,
   "metadata": {},
   "outputs": [],
   "source": [
    "#NLP avec scikit-learn \n",
    "# Libraire pour la vectorization des textes\n",
    "from sklearn.feature_extraction.text import CountVectorizer\n",
    "from sklearn.feature_extraction.text import TfidfVectorizer\n",
    "\n",
    "#Approche 1: operation en deux étapes fit (pour le vocabulaire) puis tranform (pour construire les vecteurs)  \n",
    "def vectorize_2_steps(text):\n",
    "    cv = CountVectorizer() \n",
    "    #vectorization    \n",
    "    vectors = cv.transform(text)      \n",
    "    return vectors, cv.get_feature_names()\n",
    "\n",
    "#Approche 2: operation fit et transform avec une seule fonction \n",
    "def vectorize_1_step(text):\n",
    "    cv = CountVectorizer() \n",
    "    vectors=cv.fit_transform(text)    \n",
    "    return vectors, cv.get_feature_names()\n",
    "\n",
    "#Approche : operation fit et transform avec une seule fonction on spécifice le type de stopwords \n",
    "# et token_pattern qui donne l'expression régulière permettat la consitution d'un token. \n",
    "def simple_vector(text):\n",
    "    cv = CountVectorizer(stop_words='english',token_pattern=r'\\w+')\n",
    "    vectors = cv.fit_transform(text).todense()  \n",
    "    return vectors, cv.get_feature_names()\n",
    "\n",
    "#approche 4 construction d'un vecteur tf.idf\n",
    "def tf_idf_vector(text):\n",
    "    t = TfidfVectorizer(stop_words='english', token_pattern=r'\\w+')\n",
    "    vectors = t.fit_transform(text).todense()\n",
    "    return vectors\n"
   ]
  },
  {
   "cell_type": "markdown",
   "metadata": {},
   "source": [
    "### Test sur la vectorisation avec SKlearn"
   ]
  },
  {
   "cell_type": "code",
   "execution_count": null,
   "metadata": {},
   "outputs": [],
   "source": [
    "text = '../exemples/data/sample.txt'\n",
    "\n",
    "with open(text_file) as f:    \n",
    "    text=f.readlines()\n",
    "\n",
    "# Construire les vecteurs \n",
    "#Les fonction CountVectorizer, simple façon de \"tokeniser\" un texte, \n",
    "\n",
    "vectors,features = vectorize_1_step(text)\n",
    "\n",
    "# vecteur dense\n",
    "#vectors,features = simple_vector(text)\n",
    "#print(vectors.shape)\n",
    "#print(features)\n",
    "#print(vectors)\n",
    "#print(vectors.toarray())  # affichage mieux que print(vectors) si le vectru n'est pas mis en \"todense()\" dans la fonction\n",
    "\n",
    "vectors= tf_idf_vector(text)\n",
    "print(vectors.shape)\n",
    "print(vectors)\n",
    "\n"
   ]
  },
  {
   "cell_type": "markdown",
   "metadata": {},
   "source": [
    "## 3- Librairie GENSIM"
   ]
  },
  {
   "cell_type": "markdown",
   "metadata": {},
   "source": [
    "#### La première partie donne un exemple 1) \"tokenisation\" assez simple  avec suppression des mots vide, 2) on appelle corpora.Dictionary() pour créer le dictionnaire. (token2id) permet d'afficher le dictionnaire: token avec leur id. \n",
    "En termes de concepts : on trouve la notion Corpus=ensemble de documents. Un document est un texte"
   ]
  },
  {
   "cell_type": "code",
   "execution_count": null,
   "metadata": {},
   "outputs": [],
   "source": [
    "from gensim.utils import simple_preprocess\n",
    "from gensim.parsing.preprocessing import remove_stopwords\n",
    "from gensim import corpora\n",
    "import os\n",
    "# Choisir une option lecture du Texte et la procédure de construction des tockens\n",
    "    ## un simple texte\n",
    "#Text =[\"\"\"Global warming is a long-term rise in the average temperature of the Earth s climate system, \n",
    "#       an aspect of climate change shown by temperature measurements and by multiple effects of the warming.\"\"\"]\n",
    "\n",
    "    ## version simple lecture ligne par phrase puis split()\n",
    "#tokens = [[token for token in sentence.split()] for sentence in text]\n",
    "    \n",
    "    ## utilisation du pre_pocessing de gensim\n",
    "#tokens= [simple_preprocess(remove_stopwords(sentence)) for sentence in Text]\n",
    "            #avec suprenssion de mots vides\n",
    "#tokens = [simple_preprocess(remove_stopwords(sentence)) for sentence in Text]\n",
    "\n",
    "    ##Texte dans un Un fichier\n",
    "#tokens=[simple_preprocess(sentence) for sentence in open('data/dataN7/text_file1.txt', encoding='utf-8')]\n",
    "\n",
    "## Plusieurs fichiers dans un répértoire\n",
    "dir_path= '../exemples/data/dataN7'\n",
    "for file_name in os.listdir(dir_path):\n",
    "    if \".txt\" in file_name:  \n",
    "        tokens = [simple_preprocess(remove_stopwords(sentence)) \n",
    "                  for sentence in open(os.path.join(dir_path, file_name), encoding='utf-8')]\n",
    "\n",
    "    ##Construire le dictionnaire: il regroue l'ensemble des termes uniques truvé dans le corpus\n",
    "gensim_dictionary = corpora.Dictionary(tokens)\n",
    "\n",
    "##token2id transform les token en id\n",
    "gensim_dictionary.token2id\n"
   ]
  },
  {
   "cell_type": "markdown",
   "metadata": {},
   "source": [
    "#### On crée une représentation en sac de mots(terme, fréquence). On effectue une vectorisation du corpus. On utilise  la méthode  doc2bow, de gensim_dictionary. \n",
    "On peut aussi calculer pour chaque mot sa fréquence totale dans le corpus. "
   ]
  },
  {
   "cell_type": "code",
   "execution_count": null,
   "metadata": {},
   "outputs": [],
   "source": [
    "# on crée une rerésentation bag of words poar document. \n",
    "gensim_corpus = [gensim_dictionary.doc2bow(token, allow_update=True) for token in tokens]\n",
    "\n",
    "##Afficher les ID ainsi que leeur fréquence)\n",
    "print(gensim_corpus)\n",
    "\n",
    "## on peut aussi aficher les mots ainsi que leur fréqueence\n",
    "word_frequencies = [[(gensim_dictionary[id], frequence) for id, frequence in couple] for couple in gensim_corpus]\n",
    "\n",
    "print(\"\\n\",word_frequencies)\n",
    "\n"
   ]
  },
  {
   "cell_type": "markdown",
   "metadata": {},
   "source": [
    "### Une fois que l'on a vectorisé le corpus, on peut utiliser des models () pour transfomer le corpus d'une reprérntation à une autre. \n",
    "Par exemple ci-dessous- on prend le corpus, on crèe un bag of words pondéré par tf.idf (a la SMART (modèle vectriel))). Plus bas o construit un LSI et LDA"
   ]
  },
  {
   "cell_type": "code",
   "execution_count": null,
   "metadata": {},
   "outputs": [],
   "source": [
    "from gensim import models\n",
    "import numpy as np\n",
    "\n",
    "    ## Je récupre le coprus que j'ai construit précédemment\n",
    "    ## J'appelle la méthode TfidfModel de mdels\n",
    "\n",
    "tfidf = models.TfidfModel(gensim_corpus, smartirs='ltc')\n",
    "\n",
    "for doc in tfidf[gensim_corpus]:\n",
    "    print(doc)\n",
    "    for id, frequency in doc:\n",
    "        print(gensim_dictionary[id], np.around(frequency, decimals=2))\n",
    "    \n",
    "    \n"
   ]
  },
  {
   "cell_type": "markdown",
   "metadata": {},
   "source": [
    "#### On peut faire de la RI. \n",
    "On consstruit un inde, on claule le vecteur de la requête, puis n calul sa similarité avec les documents"
   ]
  },
  {
   "cell_type": "code",
   "execution_count": null,
   "metadata": {},
   "outputs": [],
   "source": [
    "from gensim import similarities\n",
    "index = similarities.SparseMatrixSimilarity(tfidf[gensim_corpus],num_features=2)\n",
    "\n",
    "query_document = 'global rise'.split()\n",
    "query_bow = gensim_dictionary.doc2bow(query_document)\n",
    "query_bow\n",
    "simils = index[tfidf[query_bow]]\n",
    "#print(list(enumerate(simils)))\n",
    "\n",
    "for doc, score in sorted(enumerate(simils), key=lambda x: x[1], reverse=True):\n",
    "   print(doc, score)\n",
    "\n",
    "    # Petit souci avec cette fonction le kernel se crache ??"
   ]
  },
  {
   "cell_type": "markdown",
   "metadata": {},
   "source": [
    "#### On peut sauveragder le dictionnaire, le corpus et le modèle LSI"
   ]
  },
  {
   "cell_type": "code",
   "execution_count": null,
   "metadata": {},
   "outputs": [],
   "source": [
    "dict=\"data/gensim_dic\"\n",
    "corpus=\"data/gensim_corpus.mm\"\n",
    "gensim_dictionary.save(dict)\n",
    "#corpora.MmCorpus.serialize(corpus, gensim_corpus)\n",
    "\n"
   ]
  },
  {
   "cell_type": "markdown",
   "metadata": {},
   "source": [
    "#### chargement des fichiers"
   ]
  },
  {
   "cell_type": "code",
   "execution_count": null,
   "metadata": {},
   "outputs": [],
   "source": [
    "dict=\"data/gensim_dic\"\n",
    "corpus=\"data/gensim_corpus.mm\"\n",
    "#gensim_dict = corpora.Dictionary()\n",
    "gensim_dict.load(dict)\n",
    "corpus_load = corpora.MmCorpus(corpus)"
   ]
  },
  {
   "cell_type": "markdown",
   "metadata": {},
   "source": [
    "# 2 LSI et LDA: \n",
    "#### LSI et LDA sont des approches permettant de représenter les textes sous forms de vecteurs.LSI exploite une SVD (décomposition en valeurs singulières) et LDA est basé sur les topics models. \n"
   ]
  },
  {
   "cell_type": "code",
   "execution_count": null,
   "metadata": {},
   "outputs": [],
   "source": [
    "import gensim.downloader as api\n",
    "\n",
    "from gensim.utils import simple_preprocess\n",
    "from gensim.parsing.preprocessing import remove_stopwords\n",
    "from gensim import corpora\n",
    "from gensim import models\n",
    "from gensim.models import LsiModel\n",
    "import os\n",
    "\n",
    "#Etape 1 récuperer les documents\n",
    "## on lit les documents à partir d'un fichier (pas besoin de lire plusieurs fois le fichier, \n",
    "#je le fais pour que chque cellule puisse être exécutée séparement. On récupère les mots lémmatisés)\n",
    "#dir_path= '../exemples/data/dataN7'\n",
    "\n",
    "dir_path=\"/Users/boughanem/Pgmes/data/sentiment/aclImdb/test/pos\"\n",
    "\n",
    "i=0\n",
    "for file_name in os.listdir(dir_path):\n",
    "    if \".txt\" in file_name and i<10:\n",
    "        i+=1\n",
    "        print(file_name)\n",
    "        tokens = [simple_preprocess(remove_stopwords(sentence)) for sentence in open(os.path.join(dir_path, file_name), encoding='utf-8')]\n",
    "\n",
    "#Prendcre un GROS fichier exemple proposé par Gensim\n",
    "#dataset = api.load(\"text8\")\n",
    "#tokens = [d for d in dataset]\n",
    "\n",
    "\n",
    "#Etape 2 Créer les entrées de la fonction LSI : Dictionnaire et le corpus \n",
    "gensim_dictionary = corpora.Dictionary(tokens)\n",
    "gensim_corpus = [gensim_dictionary.doc2bow(token, allow_update=True) for token in tokens]\n",
    "\n",
    "\n",
    "#appel de LsiModel\n",
    "lsi = models.LsiModel(corpus=gensim_corpus, id2word=gensim_dictionary, num_topics=4) \n",
    "\n",
    "lsi.show_topics()\n",
    "\n",
    "lsi.save('data/lda_model.model')\n"
   ]
  },
  {
   "cell_type": "code",
   "execution_count": null,
   "metadata": {},
   "outputs": [],
   "source": [
    "# charment d'un lsi\n",
    "lsi_load="
   ]
  },
  {
   "cell_type": "markdown",
   "metadata": {},
   "source": [
    "## LDA\n",
    "#### On reprend le corpus et le dictionnaire précédents: (gensim_dictionary  et gensim_corpus)"
   ]
  },
  {
   "cell_type": "code",
   "execution_count": null,
   "metadata": {},
   "outputs": [],
   "source": [
    "from gensim.models import LdaModel, LdaMulticore\n",
    "\n",
    "lda_model = LdaMulticore(corpus=gensim_corpus,\n",
    "                         id2word=gensim_dictionary,\n",
    "                         random_state=100,\n",
    "                         num_topics=7,\n",
    "                         passes=10,\n",
    "                         chunksize=1000,\n",
    "                         batch=False,\n",
    "                         alpha='asymmetric',\n",
    "                         decay=0.5,\n",
    "                         offset=64,\n",
    "                         eta=None,\n",
    "                         eval_every=0,\n",
    "                         iterations=100,\n",
    "                         gamma_threshold=0.001,\n",
    "                         per_word_topics=True)\n",
    "\n",
    "# save the model\n",
    "lda_model.save('lda_model.model')\n",
    "\n",
    "lda_model.print_topics(-1)\n"
   ]
  },
  {
   "cell_type": "code",
   "execution_count": null,
   "metadata": {},
   "outputs": [],
   "source": [
    "for c in lda_model[gensim_corpus[5:8]]:\n",
    "    print(\"Document Topics      : \", c[0])      # [(Topics, Perc Contrib)]\n",
    "    print(\"Word id, Topics      : \", c[1][:3])  # [(Word id, [Topics])]\n",
    "    print(\"Phi Values (word id) : \", c[2][:2])  # [(Word id, [(Topic, Phi Value)])]\n",
    "    print(\"Word, Topics         : \", [(gensim_dictionary[wd], topic) for wd, topic in c[1][:2]])   # [(Word, [Topics])]\n",
    "    print(\"Phi Values (word)    : \", [(gensim_dictionary[wd], topic) for wd, topic in c[2][:2]])  # [(Word, [(Topic, Phi Value)])]\n",
    "    print(\"------------------------------------------------------\\n\")"
   ]
  },
  {
   "cell_type": "code",
   "execution_count": null,
   "metadata": {},
   "outputs": [],
   "source": [
    "import pyLDAvis\n",
    "import pyLDAvis.gensim\n",
    "pyLDAvis.enable_notebook()\n",
    "vis = pyLDAvis.gensim.prepare(lda_model, gensim_corpus, gensim_dictionary)\n",
    "vis"
   ]
  },
  {
   "cell_type": "code",
   "execution_count": null,
   "metadata": {},
   "outputs": [],
   "source": [
    "## \n",
    "#O construit des topics model à partir de son propre fichier.\n",
    "from gensim.models import LdaModel, LdaMulticore\n",
    "from gensim.utils import simple_preprocess, lemmatize\n",
    "\n",
    "#my_dict, my_corpus=get_dict_corpus()\n",
    "    \n",
    "# récpepr le dictionnaire et le corpus\n",
    "my_dict = corpora.Dictionary.load('data/my_dict.dict')\n",
    "my_corpus = corpora.MmCorpus('data/bow_corpus.mm')\n",
    "\n",
    "#reécupérer ue représentation d'un document\n",
    "\n",
    "lda_model = models.LdaMulticore(my_corpus,id2word=my_dict,random_state=100,num_topics=5)\n",
    "\n",
    "#lda_model.print_topics(-1)\n",
    "lda_model.show_topics()\n",
    "\n",
    "\n",
    "# lire les fichiers\n",
    "\n",
    "lda_model[my_corpus]\n",
    "\n",
    "#for c in lda_model[my_corpus[0:3]]:\n",
    "#    print(\"Document Topics      : \", c[0])      # [(Topics, Perc Contrib)]\n",
    "#    print(\"Word id, Topics      : \", c[1][:])  # [(Word id, [Topics])]\n",
    "#    print(\"Phi Values (word id) : \", c[2][:2])  # [(Word id, [(Topic, Phi Value)])]\n",
    "#    print(\"Word, Topics         : \", [(my_dict[wd], topic) for wd, topic in c[1][:2]])   # [(Word, [Topics])]\n",
    "#    print(\"Phi Values (word)    : \", [(my_dict[wd], topic) for wd, topic in c[2][:2]])  # [(Word, [(Topic, Phi Value)])]\n",
    "    #print(\"------------------------------------------------------\\n\")\n"
   ]
  },
  {
   "cell_type": "code",
   "execution_count": null,
   "metadata": {},
   "outputs": [],
   "source": [
    "data=gensim_preprocess_data()\n",
    "data[1:10]"
   ]
  },
  {
   "cell_type": "markdown",
   "metadata": {},
   "source": [
    "# 3- Word2Vec Sous GENSIM\n",
    "#### Nous allons traiter deux types d'exemples. Utilisation des vecteurs (W2VEC) Préentrainés : Word2Vec, Glove et FastText. On peut utiliser soit le fichier .bin (le binaire) directement comme ci-dessous.\n",
    "On utilisera la classe Gensim Word2Vec de Gensim"
   ]
  },
  {
   "cell_type": "code",
   "execution_count": null,
   "metadata": {},
   "outputs": [],
   "source": [
    "from gensim.models import KeyedVectors\n",
    "import os\n",
    "# load the google word2vec model\n",
    "filename = '../../data/GoogleNews-vectors-negative300.bin'\n",
    "if os.path.exists(filename) : \n",
    "    #charge le model en mémoire\n",
    "    model1 = KeyedVectors.load_word2vec_format(filename, binary=True)\n",
    "else:\n",
    "    print('le fichier n existe pas')"
   ]
  },
  {
   "cell_type": "markdown",
   "metadata": {},
   "source": [
    "#### Dans le cas de Glove, il est proposé sous format .txt, son utilisation nécessite une conversion vers le format Word2Vec"
   ]
  },
  {
   "cell_type": "code",
   "execution_count": null,
   "metadata": {},
   "outputs": [],
   "source": [
    "from gensim.models import KeyedVectors\n",
    "from gensim.scripts.glove2word2vec import glove2word2vec\n",
    "\n",
    "#Utilisation de Glove de Stanford \n",
    "#The first step is to convert the GloVe file format to the word2vec file format. \n",
    "glove_input_file = '../../data/Glove/glove.6B.100d.txt'\n",
    "glove_output_file = '../../data/Glove/glove.6B.100d.txt.word2vec'\n",
    "#convert txt en word2Vec Format\n",
    "glove2word2vec(glove_input_file, glove_output_file)\n",
    "\n",
    "# UNE FOIS CONVERTI, On UTILISE LE MODELE comme ci-dessous\n",
    "# load the converted model\n",
    "glove_model = KeyedVectors.load_word2vec_format(glove_output_file, binary=False)"
   ]
  },
  {
   "cell_type": "markdown",
   "metadata": {},
   "source": [
    "### Gensim propose une api (gensim.downloader) qui permet de charger le fichier (à prtir de votre ordniteur si il existe dans gensim-data/ ou , le télécharger à partir d'un site extérieur ça peut prendre du temps"
   ]
  },
  {
   "cell_type": "code",
   "execution_count": null,
   "metadata": {},
   "outputs": [],
   "source": [
    "# Gensim propose une api (ci dessous) qui permet de charger le fichier (de votre ordnitauer si il existe dans gensim-data/ \n",
    "#ou , le téléchargé à partir d'un site extérieur ça peut prendre du temps\n",
    "import gensim.downloader as api\n",
    "\n",
    "# Download the models\n",
    "#ça pourrait prendre un peu de temps si vous l'avez pas localement dans la librarire de gensim\")\n",
    "fasttext_model300 = api.load('fasttext-wiki-news-subwords-300')\n",
    "word2vec_model300 = api.load('word2vec-google-news-300')\n",
    "glove_model300 = api.load('glove-wiki-gigaword-300')"
   ]
  },
  {
   "cell_type": "markdown",
   "metadata": {},
   "source": [
    "## On peut jouer avec les modèles chargés"
   ]
  },
  {
   "cell_type": "code",
   "execution_count": null,
   "metadata": {},
   "outputs": [],
   "source": [
    "#calul de la similarité\n",
    "\n",
    "# avec Word2Vec\n",
    "word2vec_model300.most_similar('trump',topn=5)\n",
    "\n",
    "# avec FastText\n",
    "fasttext_model300.most_similar('trump',topn=5)\n",
    "\n",
    "# Avec Glove\n",
    "glove_model300.most_similar('trump',topn=5)\n",
    "\n"
   ]
  },
  {
   "cell_type": "markdown",
   "metadata": {},
   "source": [
    "#### Comme on maniplue des vecteurs, on peut s'amuser à faire ce type de calcul (Vect(king)-Vect(man)+Vect(woman) .... le vecteur résultat est proche du vecteur du mot \"Queen\"."
   ]
  },
  {
   "cell_type": "code",
   "execution_count": null,
   "metadata": {},
   "outputs": [],
   "source": [
    "# calculate: (king - man) + woman = ?\n",
    "result = word2vec_model300.most_similar(positive=['woman', 'king'], negative=['man'], topn=1)\n",
    "#result = glove_model.most_similar(positive=['france', 'china'], negative=['paris'], topn=3)\n",
    "print(result)"
   ]
  },
  {
   "cell_type": "markdown",
   "metadata": {},
   "source": [
    "#### Calculer la similarité entre phrases"
   ]
  },
  {
   "cell_type": "code",
   "execution_count": null,
   "metadata": {},
   "outputs": [],
   "source": [
    "\n",
    "sent_1 = 'Sachin is a cricket player and a opening batsman'.split()\n",
    "sent_2 = 'Dhoni is a cricket player too He is a batsman and keeper'.split()\n",
    "sent_3 = 'Anand is a chess player'.split()\n",
    "\n",
    "# Prepare a dictionary and a corpus.\n",
    "similarity = word2vec_model300.wmdistance(sent_1, sent_2)\n",
    "print(f\"{similarity:.4f}\")\n"
   ]
  },
  {
   "cell_type": "code",
   "execution_count": null,
   "metadata": {},
   "outputs": [],
   "source": [
    "from gensim.matutils import softcossim\n",
    "from gensim import corpora\n",
    "\n",
    "sent_1 = 'Sachin is a cricket player and a opening batsman'.split()\n",
    "sent_2 = 'Dhoni is a cricket player too He is a batsman and keeper'.split()\n",
    "sent_3 = 'Anand is a chess player'.split()\n",
    "\n",
    "# Prepare a dictionary and a corpus.\n",
    "documents = [sent_1, sent_2, sent_3]\n",
    "dictionary = corpora.Dictionary(documents)\n",
    "\n",
    "# Prepare the similarity matrix\n",
    "similarity_matrix = word2vec_model300.similarity_matrix(dictionary, tfidf=None, threshold=0.0, exponent=2.0, nonzero_limit=100)\n",
    "\n",
    "# Convert the sentences into bag-of-words vectors.\n",
    "sent_1 = dictionary.doc2bow(sent_1)\n",
    "sent_2 = dictionary.doc2bow(sent_2)\n",
    "sent_3 = dictionary.doc2bow(sent_3)\n",
    "\n",
    "# Compute soft cosine similarity\n",
    "print(softcossim(sent_1, sent_2, similarity_matrix))\n",
    "print(softcossim(sent_1, sent_3, similarity_matrix))\n",
    "print(softcossim(sent_2, sent_3, similarity_matrix))\n"
   ]
  },
  {
   "cell_type": "markdown",
   "metadata": {},
   "source": [
    "### Creation de son propre word2Vec"
   ]
  },
  {
   "cell_type": "code",
   "execution_count": null,
   "metadata": {},
   "outputs": [],
   "source": [
    "from gensim.models import Word2Vec\n",
    "from multiprocessing import cpu_count\n",
    "import gensim.downloader as api\n",
    "\n",
    "# Download dataset\n",
    "dataset = api.load(\"text8\")\n",
    "\n",
    "data = [d for d in dataset]\n",
    "\n",
    "# Split the data into 2 parts. Part 2 will be used later to update the model\n",
    "data_part1 = data[:1000]\n",
    "data_part2 = data[1000:]\n",
    "\n",
    "# Train Word2Vec model. Defaults result vector size = 100\n",
    "model = Word2Vec(data_part1, min_count = 1, workers=cpu_count())\n",
    "\n",
    "# summarize the loaded model\n",
    "print(model)\n",
    "# summarize vocabulary\n",
    "words = list(model.wv.vocab)\n",
    "#print(words)\n",
    "\n",
    "# Save and Load Model\n",
    "model.save('data/Text8_W2Vec')\n",
    "model = Word2Vec.load('data/Text8_W2Vec')\n",
    "\n",
    "\n"
   ]
  },
  {
   "cell_type": "code",
   "execution_count": null,
   "metadata": {},
   "outputs": [],
   "source": [
    "# access vector for one word\n",
    "print(model['sentence'])\n"
   ]
  },
  {
   "cell_type": "markdown",
   "metadata": {},
   "source": [
    "### Mise à jour d'un W2Vec (on prend la 2nde partie de notre fichier data[])"
   ]
  },
  {
   "cell_type": "code",
   "execution_count": null,
   "metadata": {},
   "outputs": [],
   "source": [
    "# Update the model with new data.\n",
    "model.build_vocab(data_part2, update=True)\n",
    "model.train(data_part2, total_examples=model.corpus_count, epochs=model.iter)\n",
    "model['topic']\n"
   ]
  },
  {
   "cell_type": "markdown",
   "metadata": {},
   "source": [
    "## Autres création d'un W2Vec"
   ]
  },
  {
   "cell_type": "code",
   "execution_count": 8,
   "metadata": {},
   "outputs": [
    {
     "name": "stdout",
     "output_type": "stream",
     "text": [
      "4715_9.txt\n",
      "1930_9.txt\n",
      "3205_9.txt\n",
      "10186_10.txt\n",
      "147_10.txt\n",
      "7511_7.txt\n",
      "616_10.txt\n",
      "10460_10.txt\n",
      "3240_9.txt\n",
      "1975_9.txt\n",
      "Word2Vec(vocab=109, size=100, alpha=0.025)\n",
      "['this', 'was', 'great', 'movie', 'would', 'compare', 'it', 'to', 'the', 'game', 'you', 'get', 'end', 'of', 'flick', 'and', 'cant', 'move', 'your', 'brain', 'has', 'been', 'removed', 'shaken', 'not', 'stirred', 'put', 'back', 'in', 'head', 'dont', 'plan', 'anything', 'after', 'will', 'need', 'time', 'think', 'about', 'what', 'just', 'happened', 'br', 'come', 'expecting', 'matrix', 'style', 'multi', 'millions', 'spent', 'on', 'special', 'effects', 'movies', 'from', 'actors', 'they', 'keep', 'involved', 'no', 'suck', 'let', 'go', 'for', 'entire', 'duration', 'acting', 'plot', 'very', 'enjoyable', 'film', 'say', 'enough', 'also', 'original', 'plenty', 'twists', 'ideas', 'that', 'have', 'never', 'thought', 'ending', 'is', 'abrupt', 'leaves', 'hanging', 'wondering', 'real', 'really', 'good', 'saying', 'bad', 'little', 'frazzled', 'those', 'who', 'like', 'action', 'up', 'bathroom', 'break', 'lost', 'mind', 'games', 'because', 'thats', 'exactly', 'nutshell']\n",
      "[ 3.1775157e-03 -1.6376979e-03 -1.5166802e-03 -1.8658582e-03\n",
      "  3.4046602e-03 -1.3065204e-04  3.6618559e-04 -2.8369927e-03\n",
      "  3.7066746e-03 -2.2466306e-03  2.2036463e-03  2.2493524e-03\n",
      "  4.0417479e-04  2.7624250e-03 -4.8566810e-03 -9.5629955e-05\n",
      "  9.2514144e-04  1.8964595e-03  3.9619347e-03 -3.2379574e-03\n",
      "  2.8066471e-04  7.1471109e-04  3.2545342e-03  1.4000873e-03\n",
      "  4.0076794e-03  4.9750260e-03  4.9544210e-03  2.5111106e-03\n",
      "  2.4201327e-03  3.1477616e-03  4.8469477e-03  2.8899545e-03\n",
      "  1.8392250e-04  2.2622007e-03  4.3208231e-03 -3.0006575e-03\n",
      " -4.9158745e-03 -9.6494291e-04 -3.5029445e-03  2.7305199e-04\n",
      " -3.2676167e-03  2.5560257e-03  2.0229088e-03  2.0588643e-03\n",
      "  2.2110725e-03 -3.9669066e-03 -3.8029808e-03  1.2809389e-03\n",
      "  2.2631839e-04  2.2439545e-03  1.9035033e-04 -3.9099299e-04\n",
      "  1.9779250e-03  1.6684007e-03  1.3613587e-03  1.2893726e-03\n",
      "  4.1029351e-03  3.6423307e-04  3.6602337e-03  1.9875132e-03\n",
      "  4.2550983e-03  9.2538871e-04  1.0694494e-03 -3.1122649e-03\n",
      " -3.7201613e-03 -4.2277980e-03 -8.7518001e-04 -4.2201579e-03\n",
      " -4.8772264e-03  1.6309160e-03 -3.8135904e-03 -2.8704756e-03\n",
      " -5.4301525e-04 -4.2997850e-03 -4.2484468e-03  3.6385311e-03\n",
      " -1.8604874e-03 -4.8446790e-03  1.4926968e-03  2.5798250e-03\n",
      " -4.6581477e-03 -8.1628014e-04  4.3538250e-03 -2.9645548e-03\n",
      "  4.1081872e-05 -6.9071545e-04  5.8117107e-04  5.0460041e-04\n",
      "  2.9648384e-03  4.7193435e-03  1.5097689e-04 -3.8649607e-03\n",
      "  1.3223426e-04  1.7970565e-03 -2.9652354e-03 -3.6748101e-03\n",
      " -2.9399174e-03  4.4129972e-04 -1.8890549e-03 -1.1424520e-03]\n"
     ]
    },
    {
     "name": "stderr",
     "output_type": "stream",
     "text": [
      "/Users/boughanem/anaconda3/lib/python3.6/site-packages/ipykernel_launcher.py:31: DeprecationWarning: Call to deprecated `__getitem__` (Method will be removed in 4.0.0, use self.wv.__getitem__() instead).\n"
     ]
    }
   ],
   "source": [
    "import gensim\n",
    "from gensim.models import Word2Vec\n",
    "from multiprocessing import cpu_count\n",
    "from gensim.utils import simple_preprocess\n",
    "from gensim.parsing.preprocessing import remove_stopwords\n",
    "import os\n",
    "\n",
    "#dir_path= '../exemples/data/dataN7'\n",
    "dir_path=\"/Users/boughanem/Pgmes/data/sentiment/aclImdb/test/pos\"\n",
    "\n",
    "i=0\n",
    "for file_name in os.listdir(dir_path):\n",
    "    if \".txt\" in file_name and i<10:  \n",
    "        i+=1\n",
    "        print(file_name)\n",
    "        tokens = [simple_preprocess(sentence) for sentence in open(os.path.join(dir_path, file_name), encoding='utf-8')]\n",
    "\n",
    "#print(tokens)\n",
    "        \n",
    "model = Word2Vec(tokens, min_count = 1, workers=cpu_count())\n",
    "\n",
    "# summarize the loaded model\n",
    "print(model)\n",
    "# summarize vocabulary\n",
    "words = list(model.wv.vocab)\n",
    "print(words)\n",
    "# access vector for one word\n",
    "#print(model['sentence'])\n",
    "\n",
    "# access vector for one word\n",
    "print(model['the'])\n",
    "\n"
   ]
  },
  {
   "cell_type": "code",
   "execution_count": null,
   "metadata": {},
   "outputs": [],
   "source": [
    "#save the model\n",
    "model.save('../exemples/data/dataN7/w2vec_model')\n"
   ]
  },
  {
   "cell_type": "code",
   "execution_count": null,
   "metadata": {},
   "outputs": [],
   "source": [
    "#Save model en ascii \n",
    "model.wv.save_word2vec_format('../exemples/data/dataN7/w2vec_model_ascii', binary=False)"
   ]
  },
  {
   "cell_type": "code",
   "execution_count": null,
   "metadata": {},
   "outputs": [],
   "source": [
    "#Load the model\n",
    "model = Word2Vec.load('../exemples/data/dataN7/w2vec_model')\n"
   ]
  },
  {
   "cell_type": "code",
   "execution_count": null,
   "metadata": {},
   "outputs": [],
   "source": [
    "# summarize vocabulary\n",
    "words = list(model.wv.vocab)\n",
    "print(words)\n"
   ]
  },
  {
   "cell_type": "code",
   "execution_count": null,
   "metadata": {},
   "outputs": [],
   "source": [
    "print(model['rise'])"
   ]
  },
  {
   "cell_type": "markdown",
   "metadata": {},
   "source": [
    "### Viualisation des Wor2Vec\n"
   ]
  },
  {
   "cell_type": "code",
   "execution_count": 9,
   "metadata": {},
   "outputs": [
    {
     "name": "stderr",
     "output_type": "stream",
     "text": [
      "/Users/boughanem/anaconda3/lib/python3.6/site-packages/ipykernel_launcher.py:7: DeprecationWarning: Call to deprecated `__getitem__` (Method will be removed in 4.0.0, use self.wv.__getitem__() instead).\n",
      "  import sys\n"
     ]
    },
    {
     "data": {
      "image/png": "[encoded data removed]",
      "text/plain": [
       "<Figure size 432x288 with 1 Axes>"
      ]
     },
     "metadata": {
      "needs_background": "light"
     },
     "output_type": "display_data"
    }
   ],
   "source": [
    "import matplotlib\n",
    "from matplotlib import pyplot\n",
    "from sklearn.decomposition import PCA\n",
    "\n",
    "\n",
    "### Pour cela on a besoin de récuperer le vocabulaire\n",
    "Z = model[model.wv.vocab]\n",
    "\n",
    "## utiise ue PCA \n",
    "pca = PCA(n_components=2)\n",
    "result = pca.fit_transform(Z)\n",
    "\n",
    "# on dessine le résultat de la projection\n",
    "pyplot.scatter(result[:,0],result[:,1])\n",
    "\n",
    "# On annote les points par les noms des termes.\n",
    "words = list(model.wv.vocab)\n",
    "for i, word in enumerate(words):\n",
    "   pyplot.annotate(word, xy=(result[i, 0], result[i, 1]))\n",
    "pyplot.show()\n",
    "\n",
    "\n"
   ]
  },
  {
   "cell_type": "markdown",
   "metadata": {},
   "source": [
    "# Construction d'un fichier TF*IDF"
   ]
  },
  {
   "cell_type": "code",
   "execution_count": null,
   "metadata": {},
   "outputs": [],
   "source": [
    "from gensim.utils import simple_preprocess\n",
    "from smart_open import smart_open\n",
    "import os\n",
    "# Create gensim dictionary form a single tet file\n",
    "dictionary = corpora.Dictionary(simple_preprocess(line, deacc=True) for line in open('data/dataN7/text_file1.txt', encoding='utf-8'))\n",
    "\n",
    "dictionary.token2id"
   ]
  },
  {
   "cell_type": "code",
   "execution_count": null,
   "metadata": {},
   "outputs": [],
   "source": [
    "min_count = 0\n",
    "size = 50\n",
    "window = 3\n",
    "corpus=[]\n",
    "\n",
    "#construire son propre w2Vec\n",
    "for sentence in texte:\n",
    "    corpus.append(sentence.split())\n",
    "    model = Word2Vec(corpus, min_count=min_count, size=size, window=window)\n",
    "\n",
    "#pprint(model.most_similar('the'))\n",
    "# appeler un W2Vec \n",
    "#print(\"début\")\n",
    "#model = gensim.models.KeyedVectors.load_word2vec_format('data/GoogleNews-vectors-negative300.bin', binary=True)\n",
    "\n",
    "#pprint(\"fin\")\n",
    "#pprint(model.most_similar('hello'))\n",
    "#pprint(\"fin2\")                                                     \n",
    "#tokens_s=[]\n",
    "#for token in texte:\n",
    "    # tokens_s.append(stemmer.stem(token))\n",
    "    # tokens_s.append(lemmatizer.lemmatize(token))"
   ]
  }
 ],
 "metadata": {
  "kernelspec": {
   "display_name": "Python 3",
   "language": "python",
   "name": "python3"
  },
  "language_info": {
   "codemirror_mode": {
    "name": "ipython",
    "version": 3
   },
   "file_extension": ".py",
   "mimetype": "text/x-python",
   "name": "python",
   "nbconvert_exporter": "python",
   "pygments_lexer": "ipython3",
   "version": "3.6.10"
  }
 },
 "nbformat": 4,
 "nbformat_minor": 4
}
