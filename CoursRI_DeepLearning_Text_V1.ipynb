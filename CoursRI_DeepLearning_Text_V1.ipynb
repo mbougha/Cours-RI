{
  "cells": [
    {
      "cell_type": "markdown",
      "metadata": {
        "id": "view-in-github",
        "colab_type": "text"
      },
      "source": [
        "<a href=\"https://colab.research.google.com/github/mbougha/Cours-RI/blob/main/CoursRI_DeepLearning_Text_V1.ipynb\" target=\"_parent\"><img src=\"https://colab.research.google.com/assets/colab-badge.svg\" alt=\"Open In Colab\"/></a>"
      ]
    },
    {
      "cell_type": "markdown",
      "metadata": {
        "id": "5koFMUyb6r__"
      },
      "source": [
        "# Cours sur Deep learning pour du Texte. \n",
        "Une bonne partie des algorithmes ci dessous sont pris de (https://www.manning.com/books/deep-learning-with-python-second-edition?a_aid=keras&a_bid=76564dff). \n",
        "\n",
        "Vous pourrez aussi accéder au GitHub du livre.\n",
        "(https://github.com/fchollet/deep-learning-with-python-notebooks)\n",
        "\n",
        "PS : Il existe plusieurs plateformes pour faire du Deep Learning : Tensorflow, Pytorch, Keras, Keras est maintenant intégré dans Tensorflow. Ls exemples ci-dessous se basent sur tensorflow et keras\n"
      ]
    },
    {
      "cell_type": "markdown",
      "metadata": {
        "id": "0VZlsR806sAD"
      },
      "source": [
        "## Quelques commandes pour le traitement d'un texte\n",
        "Traiter un texte revient à mettre le texte en minusule, spliter le textes en mots (tockenization), compter chaque mot, construire un dictionnaire (le vocabulaire regroupant tous les mots), puis indexer les mots (donner un indice à chaque mot) pour faciliter sa manipulation. "
      ]
    },
    {
      "cell_type": "markdown",
      "metadata": {
        "id": "QwPe5_ueqDJP"
      },
      "source": [
        "### Utilisation directe de la classe TextVectorization\n",
        "Le mieux est d'utiliser directement la classe TextVectorization. On fournit une collection de textes (un dataset). , TextVectorization fait tout: tockensation, elination des stopwords, création des index  (un terme un indice).\n",
        "Visualiser la classe : https://keras.io/api/layers/preprocessing_layers/text/text_vectorization/"
      ]
    },
    {
      "cell_type": "code",
      "execution_count": 24,
      "metadata": {
        "id": "4PfOBJ4n6sAK"
      },
      "outputs": [],
      "source": [
        "from tensorflow.keras.layers import TextVectorization\n",
        "## output mode indique le type de vecteur  que l'on soouhaite avoir\n",
        "# unigrams/bigrams; count, tf_idf, muti_hot, ?)\n",
        "## \n",
        "text_vectorization = TextVectorization(\n",
        "    output_mode=\"count\",\n",
        ")\n",
        "\n",
        "#on peut aussi choisir la taille du \"ngrams=1\" , \"ngrams=2\"\n",
        "#text_vectorization = TextVectorization(\n",
        "#    ngrams=2\n",
        "#    output_mode=\"count\",tf_idf; multi_hot; \n",
        "#)\n",
        "#La classe \n",
        "#tf.keras.layers.TextVectorization(\n",
        "#    max_tokens=None,\n",
        "#    standardize=\"lower_and_strip_punctuation\",\n",
        "#    split=\"whitespace\",\n",
        "#    ngrams=None,\n",
        "#    output_mode=\"int\",\n",
        "#    output_sequence_length=None,\n",
        "#    pad_to_max_tokens=False,\n",
        "#    vocabulary=None,\n",
        "#    idf_weights=None,\n",
        "#    sparse=False,\n",
        "#    ragged=False,\n",
        "#    **kwargs\n",
        "#)\n",
        "\n"
      ]
    },
    {
      "cell_type": "markdown",
      "metadata": {
        "id": "Ran_fBRHNs4L"
      },
      "source": [
        "On peut aussi écrire (appeler) ses propres fonctions dans TextVectorization"
      ]
    },
    {
      "cell_type": "code",
      "execution_count": null,
      "metadata": {
        "id": "PV_yaVAf6sAK"
      },
      "outputs": [],
      "source": [
        "import re\n",
        "import string\n",
        "import tensorflow as tf\n",
        "\n",
        "#Par exemple ici les attrbuts standardize et split prennent de nouvelles fonctions \n",
        "## \n",
        "\n",
        "def custom_standardization_fn(string_tensor):\n",
        "    lowercase_string = tf.strings.lower(string_tensor)\n",
        "    return tf.strings.regex_replace(\n",
        "        lowercase_string, f\"[{re.escape(string.punctuation)}]\", \"\")\n",
        "\n",
        "def custom_split_fn(string_tensor):\n",
        "    return tf.strings.split(string_tensor)\n",
        "\n",
        "text_vectorization = TextVectorization(\n",
        "    output_mode=\"int\",\n",
        "    standardize=custom_standardization_fn,\n",
        "    split=custom_split_fn,\n",
        ")"
      ]
    },
    {
      "cell_type": "code",
      "execution_count": 25,
      "metadata": {
        "id": "vJGmAo7o6sAL"
      },
      "outputs": [],
      "source": [
        "## La dataset, composée de trois documents\n",
        "dataset = [\n",
        "    \"I write, erase, rewrite\",\n",
        "    \"Erase again, and then\",\n",
        "    \"A poppy blooms.\",\n",
        "]\n",
        "\n",
        "# il suffit d'appeler la méthode adapt (le travail sera fait)\n",
        "text_vectorization.adapt(dataset)"
      ]
    },
    {
      "cell_type": "markdown",
      "metadata": {
        "id": "HV6LbP5S6sAL"
      },
      "source": [
        "Lister le vocabulaire"
      ]
    },
    {
      "cell_type": "code",
      "execution_count": 26,
      "metadata": {
        "id": "g8Q4r9oI6sAM"
      },
      "outputs": [],
      "source": [
        "vocabulary=text_vectorization.get_vocabulary()\n",
        "# le resultat st l'space vectoriel représentant l'ensemble des mots trouvés dans le dataset"
      ]
    },
    {
      "cell_type": "code",
      "execution_count": 27,
      "metadata": {
        "id": "f2tYGyVz6sAN",
        "colab": {
          "base_uri": "https://localhost:8080/"
        },
        "outputId": "2f84a7b9-4ba1-4bec-b6df-00c0b0628213"
      },
      "outputs": [
        {
          "output_type": "stream",
          "name": "stdout",
          "text": [
            "tf.Tensor([1. 0. 1. 0. 2. 0. 1. 0. 1. 1. 0.], shape=(11,), dtype=float32)\n"
          ]
        }
      ],
      "source": [
        "#Afficher le vecteur d'une phrase\n",
        "test_sentence = \"I write, rewrite, and still rewrite again\"\n",
        "\n",
        "# on fournit la phrase à text_vectorization, il renvoie  le vecteur\n",
        "\n",
        "encoded_sentence = text_vectorization(test_sentence)\n",
        "print(encoded_sentence)"
      ]
    },
    {
      "cell_type": "code",
      "execution_count": null,
      "metadata": {
        "colab": {
          "base_uri": "https://localhost:8080/"
        },
        "id": "aWVEnv_p6sAN",
        "outputId": "3dbff8cf-afec-44a7-c971-ff6f6dfff34a"
      },
      "outputs": [
        {
          "name": "stdout",
          "output_type": "stream",
          "text": [
            "erase [UNK] erase [UNK] write [UNK] erase [UNK] [UNK] erase erase [UNK]\n"
          ]
        }
      ],
      "source": [
        "inverse_vocab = dict(enumerate(vocabulary))\n",
        "decoded_sentence = \" \".join(inverse_vocab[int(i)] for i in encoded_sentence)\n",
        "print(decoded_sentence)"
      ]
    },
    {
      "cell_type": "markdown",
      "metadata": {
        "id": "vf_rDkylqYwI"
      },
      "source": [
        "##  Deep learning pour du Texte.\n",
        "Nous prendrons le dataset IMDB (textes donnant des reviews avec sa polarité Positive/négative)"
      ]
    },
    {
      "cell_type": "markdown",
      "metadata": {
        "id": "24suCTDY6sAO"
      },
      "source": [
        "### Préparation d'un dataset\n",
        "- On peut télécharger un dataset ou l'utiliser directement si il est sur votre répértoire"
      ]
    },
    {
      "cell_type": "code",
      "execution_count": null,
      "metadata": {
        "colab": {
          "base_uri": "https://localhost:8080/"
        },
        "id": "PqDlpjVH6sAO",
        "outputId": "defccfeb-1b8a-4456-e585-d4a11f74c5ef"
      },
      "outputs": [
        {
          "name": "stdout",
          "output_type": "stream",
          "text": [
            "  % Total    % Received % Xferd  Average Speed   Time    Time     Time  Current\n",
            "                                 Dload  Upload   Total   Spent    Left  Speed\n",
            "100 80.2M  100 80.2M    0     0  28.5M      0  0:00:02  0:00:02 --:--:-- 28.5M\n"
          ]
        }
      ],
      "source": [
        "!curl -O https://ai.stanford.edu/~amaas/data/sentiment/aclImdb_v1.tar.gz\n",
        "!tar -xf aclImdb_v1.tar.gz"
      ]
    },
    {
      "cell_type": "code",
      "execution_count": null,
      "metadata": {
        "id": "Lv0d76Fc6sAO"
      },
      "outputs": [],
      "source": [
        "# supprimer les fichiers \n",
        "!rm -r aclImdb/train/unsup"
      ]
    },
    {
      "cell_type": "code",
      "execution_count": null,
      "metadata": {
        "id": "XHLLWVXR6sAO"
      },
      "outputs": [],
      "source": [
        "##  Visualiser un bout de texte\n",
        "!cat aclImdb/train/pos/4077_10.txt"
      ]
    },
    {
      "cell_type": "markdown",
      "metadata": {
        "id": "yvUD6HtIJNlA"
      },
      "source": [
        "- On peut  utiliser des données** qui sont sur son propre répértoire, par exemple ici les données sont sur Drive.\n",
        "\n",
        "- copier le fichier sur Colab puis décompesser"
      ]
    },
    {
      "cell_type": "code",
      "execution_count": 10,
      "metadata": {
        "colab": {
          "base_uri": "https://localhost:8080/"
        },
        "id": "cztAyXqJ3PjE",
        "outputId": "2fa9404d-01ef-45c7-d589-055e8015ad2c"
      },
      "outputs": [
        {
          "output_type": "stream",
          "name": "stdout",
          "text": [
            "Mounted at /content/drive\n"
          ]
        }
      ],
      "source": [
        "from google.colab import drive\n",
        "drive.mount('/content/drive')\n"
      ]
    },
    {
      "cell_type": "code",
      "execution_count": 4,
      "metadata": {
        "id": "0pzgt7zT3yEl"
      },
      "outputs": [],
      "source": [
        "## Pour copier les données sur colab\n",
        "!cp  /content/drive/MyDrive/MyColabNotebooks/Mes_cours/data/aclImdb.tar.gz .\n",
        "## décompesser\n",
        "!tar -xzf aclImdb.tar.gz"
      ]
    },
    {
      "cell_type": "code",
      "source": [
        "!cat content/aclImdb/train/pos/4077_10.txt"
      ],
      "metadata": {
        "colab": {
          "base_uri": "https://localhost:8080/"
        },
        "id": "fKU_nA65OhpR",
        "outputId": "f9b77d77-d679-493a-849d-516278daea52"
      },
      "execution_count": 29,
      "outputs": [
        {
          "output_type": "stream",
          "name": "stdout",
          "text": [
            "I first saw this back in the early 90s on UK TV, i did like it then but i missed the chance to tape it, many years passed but the film always stuck with me and i lost hope of seeing it TV again, the main thing that stuck with me was the end, the hole castle part really touched me, its easy to watch, has a great story, great music, the list goes on and on, its OK me saying how good it is but everyone will take there own best bits away with them once they have seen it, yes the animation is top notch and beautiful to watch, it does show its age in a very few parts but that has now become part of it beauty, i am so glad it has came out on DVD as it is one of my top 10 films of all time. Buy it or rent it just see it, best viewing is at night alone with drink and food in reach so you don't have to stop the film.<br /><br />Enjoy"
          ]
        }
      ]
    },
    {
      "cell_type": "code",
      "execution_count": 5,
      "metadata": {
        "colab": {
          "base_uri": "https://localhost:8080/"
        },
        "id": "qWEdDeMnrJuh",
        "outputId": "c1909669-7d77-4e45-fb2a-68e6f665b6f5"
      },
      "outputs": [
        {
          "output_type": "stream",
          "name": "stdout",
          "text": [
            "ATTENTION ICI SEULS LES REPERTOIRE TRAIN ET TEST EXISTENT. LE REPERTOIRE VAL n'eXISTE PAS.\n"
          ]
        }
      ],
      "source": [
        "import os, pathlib\n",
        "# les données sont sur mon drive. le mieux est de les copier sur Colab (voir ci-dessous)\n",
        "#  sur drive\n",
        "#dataset_dir='/content/drive/MyDrive/MyColabNotebooks/Mes_cours/data'\n",
        "\n",
        "# sur colab /content' n'est pas obligatoire\n",
        "dataset_dir='content/'\n",
        "\n",
        "train_dir=os.path.join(dataset_dir, 'aclImdb/train')\n",
        "test_dir=os.path.join(dataset_dir, 'aclImdb/test')\n",
        "os.listdir(train_dir)\n",
        "# rempalacer ls répartoires aclImdb/train val) et test par les vôtres\n",
        "\n",
        "print(\"ATTENTION ICI SEULS LES REPERTOIRE TRAIN ET TEST EXISTENT. LE REPERTOIRE VAL n'eXISTE PAS.\")\n",
        "\n"
      ]
    },
    {
      "cell_type": "markdown",
      "metadata": {
        "id": "rZ14jQuaT__v"
      },
      "source": [
        "### Charger les données\n",
        "\n",
        "Le dataset aclImdb, comporte deux répertoires, train et test (chacun comporte un répértoire de revues positives et un  répertoire de revues  négatives. Pour la phase d'entrainement on a besoin de données de validation. \n",
        "\n",
        "Deux OPTIONS pour les construire."
      ]
    },
    {
      "cell_type": "markdown",
      "source": [
        "\n",
        "#####Option 1 : On crée un répertoire val, et on 'move' une partie des données de train vers val. \n",
        "\n"
      ],
      "metadata": {
        "id": "HHLhVCl_PN5d"
      }
    },
    {
      "cell_type": "code",
      "execution_count": null,
      "metadata": {
        "id": "L_aJgHMF6sAP"
      },
      "outputs": [],
      "source": [
        "# Option 1 Option 1  Option 1   Option 1   Option 1  Option 1  Option 1   Option 1   Option 1 \n",
        "\n",
        "import os, pathlib, shutil, random\n",
        "# Le répértoire aclIMDB comporte deux répértoirtes importants\n",
        "# test et train, chacun de ces répértoires comporte un répértoire pos (liste des textes positifs) \n",
        "# et un repértoire neg, listant les textes (les reviews) négatifs.\n",
        "# ce bout de programme permet d'extraire à partir du répértoire train un ensemble de textes qui sera utilisé \n",
        "# dans la phase de validation\n",
        "\n",
        "base_dir = pathlib.Path(\"aclImdb\")\n",
        "val_dir = base_dir / \"val\"\n",
        "train_dir = base_dir / \"train\"\n",
        "for category in (\"neg\", \"pos\"):\n",
        "    # création du represtoire val (validation) 20 du train. \n",
        "    # puis move de ces 20% de train vers val\n",
        "    os.makedirs(val_dir / category)\n",
        "    files = os.listdir(train_dir / category)\n",
        "    random.Random(1337).shuffle(files)\n",
        "    num_val_samples = int(0.2 * len(files))\n",
        "    val_files = files[-num_val_samples:]\n",
        "    for fname in val_files:\n",
        "        shutil.move(train_dir / category / fname,\n",
        "                    val_dir / category / fname)"
      ]
    },
    {
      "cell_type": "markdown",
      "metadata": {
        "id": "Dl8v8gBVNJmJ"
      },
      "source": [
        "Dans les deux options les données sont chargées grace à keras.utils.text_dataset_from_directory.\n",
        "(visualiser la fonction https://keras.io/api/data_loading/text/)\n",
        "\n",
        "3 tenseurs (train_ds, val_ds et test_ds) sont crées.\n",
        "\n",
        "** Les textes sont rangés par paquets (batch_size) de 32. Le batch_size indique le paquet de données (training) à traiter par training.\n"
      ]
    },
    {
      "cell_type": "code",
      "execution_count": null,
      "metadata": {
        "id": "dYkjmcGRCE-d"
      },
      "outputs": [],
      "source": [
        "# la fonction keras.utils.text_dataset_from_directory lit les données et renvoie un tenseur.\n",
        "# un tf.data.Dataset object\n",
        "\n",
        "from tensorflow import keras\n",
        "batch_size = 32\n",
        "\n",
        "train_ds = keras.utils.text_dataset_from_directory(\n",
        "    \"aclImdb/train\", \n",
        "    #batch_size=batch_size\n",
        ")\n",
        "val_ds = keras.utils.text_dataset_from_directory(\n",
        "    \"aclImdb/val\", \n",
        "    #batch_size=batch_size\n",
        ")\n",
        "test_ds = keras.utils.text_dataset_from_directory(\n",
        "    \"aclImdb/test\", \n",
        "    #batch_size=batch_size\n",
        ")\n",
        "\n",
        "\n",
        "#la fonction tf.keras.utils.text_dataset_from_directory(\n",
        "#   directory,\n",
        "#   labels=\"inferred\",\n",
        "#   label_mode=\"int\",\n",
        "#   class_names=None,\n",
        "#    batch_size=32,\n",
        "#    max_length=None,\n",
        "#    shuffle=True,\n",
        "#    seed=None,\n",
        "#    validation_split=None,\n",
        "#    subset=None,\n",
        "#    follow_links=False,\n",
        "#)\n"
      ]
    },
    {
      "cell_type": "markdown",
      "metadata": {
        "id": "yNwqMO49h3Jh"
      },
      "source": [
        "#####Option 2 : Lors de la lecture des données on donne le pourcentage de données que l'on prend pour la **validation**"
      ]
    },
    {
      "cell_type": "code",
      "execution_count": 30,
      "metadata": {
        "colab": {
          "base_uri": "https://localhost:8080/"
        },
        "id": "BoHEtl_lh1rB",
        "outputId": "cb14a8db-458e-4b70-9ea6-0c69869c248e"
      },
      "outputs": [
        {
          "output_type": "stream",
          "name": "stdout",
          "text": [
            "Found 25000 files belonging to 2 classes.\n",
            "Using 18750 files for training.\n",
            "Found 25000 files belonging to 2 classes.\n",
            "Using 6250 files for validation.\n",
            "Found 25000 files belonging to 2 classes.\n"
          ]
        }
      ],
      "source": [
        "#Option 2 Option 2 Option 2  Option 2  Option 2  Option 2  Option 2  Option 2  Option 2  \n",
        "\n",
        "train_ds = keras.utils.text_dataset_from_directory(\n",
        "    train_dir, \n",
        "    batch_size=32,\n",
        "    validation_split=0.25,\n",
        "    subset=\"training\",\n",
        "    seed=1337,\n",
        ")\n",
        "\n",
        "val_ds = keras.utils.text_dataset_from_directory(\n",
        "    train_dir, \n",
        "    batch_size=32,\n",
        "    validation_split=0.25,\n",
        "    subset=\"validation\",\n",
        "    seed=1337,\n",
        ")\n",
        "\n",
        "test_ds = keras.utils.text_dataset_from_directory(\n",
        "    test_dir, \n",
        "    batch_size=32,\n",
        "  \n",
        ")"
      ]
    },
    {
      "cell_type": "markdown",
      "metadata": {
        "id": "XJnDfwL16sAQ"
      },
      "source": [
        "** Affichage de la \"forme\" dimension et le contenu du premier Batch\n"
      ]
    },
    {
      "cell_type": "code",
      "execution_count": 7,
      "metadata": {
        "id": "nMQUI-m36sAQ",
        "colab": {
          "base_uri": "https://localhost:8080/"
        },
        "outputId": "2f342f24-a97e-45cc-d246-52bcba90f052"
      },
      "outputs": [
        {
          "output_type": "stream",
          "name": "stdout",
          "text": [
            "inputs.shape: (32,)\n",
            "inputs.dtype: <dtype: 'string'>\n",
            "targets.shape: (32,)\n",
            "targets.dtype: <dtype: 'int32'>\n",
            "inputs[0]: tf.Tensor(b'I\\'ve seen tons of science fiction from the 70s; some horrendously bad, and others thought provoking and truly frightening. Soylent Green fits into the latter category. Yes, at times it\\'s a little campy, and yes, the furniture is good for a giggle or two, but some of the film seems awfully prescient. Here we have a film, 9 years before Blade Runner, that dares to imagine the future as somthing dark, scary, and nihilistic. Both Charlton Heston and Edward G. Robinson fare far better in this than The Ten Commandments, and Robinson\\'s assisted-suicide scene is creepily prescient of Kevorkian and his ilk. Some of the attitudes are dated (can you imagine a filmmaker getting away with the \"women as furniture\" concept in our oh-so-politically-correct-90s?), but it\\'s rare to find a film from the Me Decade that actually can make you think. This is one I\\'d love to see on the big screen, because even in a widescreen presentation, I don\\'t think the overall scope of this film would receive its due. Check it out.', shape=(), dtype=string)\n",
            "targets[0]: tf.Tensor(1, shape=(), dtype=int32)\n"
          ]
        }
      ],
      "source": [
        "for inputs, targets in train_ds:\n",
        "    print(\"inputs.shape:\", inputs.shape)\n",
        "    print(\"inputs.dtype:\", inputs.dtype)\n",
        "    print(\"targets.shape:\", targets.shape)\n",
        "    print(\"targets.dtype:\", targets.dtype)\n",
        "# le premier texte, inputs[0]    \n",
        "    print(\"inputs[0]:\", inputs[0])\n",
        "# sa polarité targets[0]\n",
        "    print(\"targets[0]:\", targets[0])\n",
        "    break"
      ]
    },
    {
      "cell_type": "markdown",
      "metadata": {
        "id": "sVRwKzUf6sAQ"
      },
      "source": [
        "### Premier exemple: **texte représenté par sac de mots**\n",
        "Les données sont chargées dans dans trois tenseurs.\n",
        "On passe aux étapes suivantes (Deep learning)"
      ]
    },
    {
      "cell_type": "code",
      "execution_count": 8,
      "metadata": {
        "id": "LDKr3Fct6sAR"
      },
      "outputs": [],
      "source": [
        "from tensorflow.keras.layers import TextVectorization\n",
        "\n",
        "## definition d'une variable text_vectorisation (on prend une version binaire 1/0)\n",
        "# on peut aussi prendre tf_idf, bigrams,etc. vir ci dessous \n",
        "\n",
        "text_vectorization = TextVectorization(\n",
        "    max_tokens=20000,\n",
        "    output_mode=\"multi_hot\",\n",
        ")\n",
        "\n"
      ]
    },
    {
      "cell_type": "markdown",
      "metadata": {
        "id": "zifQnJdZK-P-"
      },
      "source": [
        "####  Vectorisation des textes"
      ]
    },
    {
      "cell_type": "code",
      "execution_count": 9,
      "metadata": {
        "id": "534NBNMYK4P_"
      },
      "outputs": [],
      "source": [
        "##  la fonction map est de type lambda) elle prend un texte a deux colonnes \n",
        "# elle renvoie juste la première column (le texte)\n",
        "# la fonction adapt de vectorization \n",
        "\n",
        "# Récupérer le texte de train_ds\n",
        "text_only_train_ds = train_ds.map(lambda x, y: x)\n",
        "# construire l'index (avec adapt) (à partir du texte de text_only_train_ds)\n",
        "text_vectorization.adapt(text_only_train_ds)\n",
        "\n",
        "\n",
        "## préparation des données pour la phase d'apprentissage\n",
        "# vectorisation de chaque paquet de textes (trains_ds, val_ds et test_ds)\n",
        "binary_1gram_train_ds = train_ds.map(lambda x, y: (text_vectorization(x), y),\n",
        "    num_parallel_calls=4)\n",
        "\n",
        "binary_1gram_val_ds = val_ds.map(lambda x, y: (text_vectorization(x), y),\n",
        "    num_parallel_calls=4)\n",
        "\n",
        "binary_1gram_test_ds = test_ds.map(lambda x, y: (text_vectorization(x), y),\n",
        "    num_parallel_calls=4)"
      ]
    },
    {
      "cell_type": "markdown",
      "metadata": {
        "id": "GIMsxV4z6sAS"
      },
      "source": [
        "Visualisation des données"
      ]
    },
    {
      "cell_type": "code",
      "execution_count": 10,
      "metadata": {
        "colab": {
          "base_uri": "https://localhost:8080/"
        },
        "id": "-t-kK5LN6sAS",
        "outputId": "f897934f-4d81-47e5-b88c-d16c9542959b"
      },
      "outputs": [
        {
          "output_type": "stream",
          "name": "stdout",
          "text": [
            "inputs.shape: (32, 20000)\n",
            "inputs.dtype: <dtype: 'float32'>\n",
            "targets.shape: (32,)\n",
            "targets.dtype: <dtype: 'int32'>\n",
            "inputs[0]: tf.Tensor([1. 1. 1. ... 0. 0. 0.], shape=(20000,), dtype=float32)\n",
            "targets[0]: tf.Tensor(1, shape=(), dtype=int32)\n"
          ]
        }
      ],
      "source": [
        "for inputs, targets in binary_1gram_train_ds:\n",
        "    print(\"inputs.shape:\", inputs.shape)\n",
        "    print(\"inputs.dtype:\", inputs.dtype)\n",
        "    print(\"targets.shape:\", targets.shape)\n",
        "    print(\"targets.dtype:\", targets.dtype)\n",
        "    print(\"inputs[0]:\", inputs[0])\n",
        "    print(\"targets[0]:\", targets[0])\n",
        "    break"
      ]
    },
    {
      "cell_type": "markdown",
      "metadata": {
        "id": "4LVYRVFO6sAS"
      },
      "source": [
        "#### Notre premier modèle multicouches ( un simple perceptron) \n",
        "il prend en entrée un texte il tente de le classer en positif ou négatif\n",
        "\n",
        "Voici le lien vers les objets keras.layers.\n",
        "https://keras.io/api/layers/core_layers"
      ]
    },
    {
      "cell_type": "code",
      "execution_count": 11,
      "metadata": {
        "id": "dk2IbUSk6sAT"
      },
      "outputs": [],
      "source": [
        "from tensorflow import keras\n",
        "from tensorflow.keras import layers\n",
        "\n",
        "## ce réseau est un simple perceptron\n",
        "## une entrée de max_tokens neurones\n",
        "## on passe ensuite dans une couche dense de hidden_dim neurones\n",
        "## un Droupout pour supprimer 1 sur 2 neurones\n",
        "#une couche output à un neurones  \n",
        "# toues les couches sont des tenseurs\n",
        "\n",
        "def get_model(max_tokens, hidden_dim):\n",
        "    inputs = keras.Input(shape=(max_tokens,))\n",
        "    x = layers.Dense(hidden_dim, activation=\"relu\")(inputs)\n",
        "    x = layers.Dropout(0.5)(x)\n",
        "    outputs = layers.Dense(1, activation=\"sigmoid\")(x)\n",
        "   \n",
        "    # créer le modèle complet lien vers la classe Model \"https://keras.io/api/models/model/\"\n",
        "    model = keras.Model(inputs, outputs)\n",
        "    # complier le modèle https://keras.io/api/models/model_training_apis/\n",
        "    model.compile(optimizer=\"rmsprop\",\n",
        "                  loss=\"binary_crossentropy\",\n",
        "                  metrics=[\"accuracy\"])\n",
        "    return model\n",
        "\n",
        "\n"
      ]
    },
    {
      "cell_type": "markdown",
      "metadata": {
        "id": "j28A4H_s6sAT"
      },
      "source": [
        "- Training et testing du modèle\n",
        "un lien vers ses méthodes: (https://keras.io/api/models/model_training_apis/)"
      ]
    },
    {
      "cell_type": "code",
      "execution_count": 12,
      "metadata": {
        "colab": {
          "base_uri": "https://localhost:8080/"
        },
        "id": "FIxofyum6sAT",
        "outputId": "2048866d-e22a-4a55-c526-4714484fc6f1"
      },
      "outputs": [
        {
          "output_type": "stream",
          "name": "stdout",
          "text": [
            "Model: \"model\"\n",
            "_________________________________________________________________\n",
            " Layer (type)                Output Shape              Param #   \n",
            "=================================================================\n",
            " input_1 (InputLayer)        [(None, 20000)]           0         \n",
            "                                                                 \n",
            " dense (Dense)               (None, 16)                320016    \n",
            "                                                                 \n",
            " dropout (Dropout)           (None, 16)                0         \n",
            "                                                                 \n",
            " dense_1 (Dense)             (None, 1)                 17        \n",
            "                                                                 \n",
            "=================================================================\n",
            "Total params: 320,033\n",
            "Trainable params: 320,033\n",
            "Non-trainable params: 0\n",
            "_________________________________________________________________\n",
            "Epoch 1/3\n",
            "586/586 [==============================] - 11s 15ms/step - loss: 0.4378 - accuracy: 0.8063 - val_loss: 0.2959 - val_accuracy: 0.8870\n",
            "Epoch 2/3\n",
            "586/586 [==============================] - 9s 15ms/step - loss: 0.2920 - accuracy: 0.8918 - val_loss: 0.2842 - val_accuracy: 0.8938\n",
            "Epoch 3/3\n",
            "586/586 [==============================] - 8s 13ms/step - loss: 0.2599 - accuracy: 0.9132 - val_loss: 0.2876 - val_accuracy: 0.8949\n",
            "782/782 [==============================] - 8s 10ms/step - loss: 0.2884 - accuracy: 0.8880\n",
            "test loss, test acc: [0.28837448358535767, 0.8880400061607361]\n"
          ]
        }
      ],
      "source": [
        "max_tokens=20000 \n",
        "hidden_dim=16\n",
        "\n",
        "## définition du modèle , \n",
        "model = get_model(max_tokens, hidden_dim)\n",
        "\n",
        "## affichage de ses caractéristiques (en termes de nombre d'entrée, de couches, de paramètres)\n",
        "model.summary()\n",
        "\n",
        "## on peut décider d'arrêter l'entrainement quant lemodèle ne s'améiore plus\n",
        "## ici on aappelle callbacks pour lui signi-fier de sauver le meilleur modèle\n",
        "callbacks = [\n",
        "    keras.callbacks.ModelCheckpoint(\"binary_1gram.keras\",\n",
        "                                    save_best_only=True)\n",
        "]\n",
        "\n",
        "## lancer la phase d'apprentissage 3 epoques \n",
        "model.fit(binary_1gram_train_ds,batch_size=32,\n",
        "          validation_data=binary_1gram_val_ds, epochs=3, callbacks=callbacks)\n",
        "\n",
        "## comme on a sauvegardé le meilleur modèle on le rappelle\n",
        "model = keras.models.load_model(\"binary_1gram.keras\")\n",
        "\n",
        "#Puis on évalue (on appelle directement l'évaluation dans le print)\n",
        "\n",
        "results=model.evaluate(binary_1gram_test_ds, batch_size=32)\n",
        "print(\"test loss, test acc:\", results)\n"
      ]
    },
    {
      "cell_type": "markdown",
      "metadata": {
        "id": "fp1BMvcZSXZ5"
      },
      "source": [
        "- On peut aussi utiliser prédiction pour prédire\" le (y) la sortie sans afficher/calculer les performances (les métriques, loss, accuracy, etc.)."
      ]
    },
    {
      "cell_type": "code",
      "execution_count": 15,
      "metadata": {
        "id": "PzZE_3IWQiG5",
        "colab": {
          "base_uri": "https://localhost:8080/"
        },
        "outputId": "fc663871-178e-4eec-b470-7e412cf274b8"
      },
      "outputs": [
        {
          "output_type": "stream",
          "name": "stdout",
          "text": [
            "predictions shape: (25000, 1)\n",
            "[[0.13161577]\n",
            " [0.80986494]\n",
            " [0.02219441]\n",
            " ...\n",
            " [0.2483506 ]\n",
            " [0.00092028]\n",
            " [0.46409705]]\n"
          ]
        }
      ],
      "source": [
        "# prédire sans afficher les performances (matriques)\n",
        "predictions = model.predict(binary_1gram_test_ds)\n",
        "print(\"predictions shape:\", predictions.shape)\n",
        "print(predictions)"
      ]
    },
    {
      "cell_type": "markdown",
      "metadata": {
        "id": "QL8CpW_o6sAT"
      },
      "source": [
        "#### Un modèle de représentation de type Bigrams binaire"
      ]
    },
    {
      "cell_type": "code",
      "execution_count": null,
      "metadata": {
        "id": "DeNTup1H6sAU"
      },
      "outputs": [],
      "source": [
        "from tensorflow.keras.layers import TextVectorization\n",
        "\n",
        "text_vectorization = TextVectorization(\n",
        "    ngrams=2,\n",
        "    max_tokens=20000,\n",
        "    output_mode=\"multi_hot\",\n",
        ")"
      ]
    },
    {
      "cell_type": "code",
      "execution_count": null,
      "metadata": {
        "id": "OuUsJsatgzuE"
      },
      "outputs": [],
      "source": [
        "# Récupérer le texte de train_ds si ce n'est pas déjà fait\n",
        "text_only_train_ds = train_ds.map(lambda x, y: x)\n",
        "\n",
        "# vectorization du texte\n",
        "text_vectorization.adapt(text_only_train_ds)\n",
        "binary_2gram_train_ds = train_ds.map(\n",
        "    lambda x, y: (text_vectorization(x), y),\n",
        "    num_parallel_calls=4)\n",
        "binary_2gram_val_ds = val_ds.map(\n",
        "    lambda x, y: (text_vectorization(x), y),\n",
        "    num_parallel_calls=4)\n",
        "binary_2gram_test_ds = test_ds.map(\n",
        "    lambda x, y: (text_vectorization(x), y),\n",
        "    num_parallel_calls=4)\n"
      ]
    },
    {
      "cell_type": "markdown",
      "metadata": {
        "id": "hhbfWvNP6sAU"
      },
      "source": [
        "**Training and testing the binary bigram model**"
      ]
    },
    {
      "cell_type": "code",
      "execution_count": null,
      "metadata": {
        "id": "hW2eEDOn6sAV"
      },
      "outputs": [],
      "source": [
        "max_tokens=20000 \n",
        "hidden_dim=16\n",
        "\n",
        "\n",
        "model = get_model(max_tokens, hidden_dim)\n",
        "model.summary()\n",
        "\n",
        "## un callbacks qui permet d'arrêter le training quand le modèle ne s'améliore plus \n",
        "## le meilleur modèle est sauvegardé dans \"filepath\"\n",
        "callbacks = [\n",
        "# stopper le training si val_accuracy ne s'améliore pas au bout de par-toience=2 epochs\n",
        "    keras.callbacks.EarlyStopping( \n",
        "        monitor=\"val_accuracy\",\n",
        "        patience=2,\n",
        "    ),\n",
        "# on ne sauvegarde (overwrite) le best modèle seuelement si la val_loss s'est améliorée\n",
        "    keras.callbacks.ModelCheckpoint(\n",
        "        filepath=\"binary_2gram.keras\",\n",
        "        monitor=\"val_loss\",\n",
        "        save_best_only=True,\n",
        "    )\n",
        "]\n",
        "\n",
        "model.fit(binary_2gram_train_ds.cache(),\n",
        "          validation_data=binary_2gram_val_ds.cache(),\n",
        "          epochs=10,\n",
        "          callbacks=callbacks)\n",
        "\n",
        "# on peut loader le modèle\n",
        "model = keras.models.load_model(\"binary_2gram.keras\")\n",
        "print(f\"Test acc: {model.evaluate(binary_2gram_test_ds)[1]:.3f}\")"
      ]
    },
    {
      "cell_type": "markdown",
      "metadata": {
        "id": "vUA6MQhx6sAV"
      },
      "source": [
        "#### Un Bigrams avec tf "
      ]
    },
    {
      "cell_type": "code",
      "execution_count": 16,
      "metadata": {
        "id": "g9eHsi4h6sAW"
      },
      "outputs": [],
      "source": [
        "from tensorflow.keras.layers import TextVectorization\n",
        "\n",
        "text_vectorization = TextVectorization(\n",
        "    ngrams=2,\n",
        "    max_tokens=20000,\n",
        "    output_mode=\"count\", # pb avec tf-idf??\n",
        ")"
      ]
    },
    {
      "cell_type": "markdown",
      "metadata": {
        "id": "j5SV7bQT6sAW"
      },
      "source": [
        "**Vectorisation des textes**"
      ]
    },
    {
      "cell_type": "code",
      "execution_count": 17,
      "metadata": {
        "id": "LZSFe6Ou6sAW"
      },
      "outputs": [],
      "source": [
        "# Récupérer le texte de train_ds si ce n'est pas déjà fait\n",
        "\n",
        "text_only_train_ds = train_ds.map(lambda x, y: x)\n",
        "text_vectorization.adapt(text_only_train_ds)\n",
        "\n",
        "tf_2gram_train_ds = train_ds.map(\n",
        "    lambda x, y: (text_vectorization(x), y),\n",
        "    num_parallel_calls=4)\n",
        "tf_2gram_val_ds = val_ds.map(\n",
        "    lambda x, y: (text_vectorization(x), y),\n",
        "    num_parallel_calls=4)\n",
        "tf_2gram_test_ds = test_ds.map(\n",
        "    lambda x, y: (text_vectorization(x), y),\n",
        "    num_parallel_calls=4)\n",
        "\n"
      ]
    },
    {
      "cell_type": "markdown",
      "metadata": {
        "id": "ArlQn2gZ6sAW"
      },
      "source": [
        "**Training and testing the TF bigram model**"
      ]
    },
    {
      "cell_type": "code",
      "execution_count": 18,
      "metadata": {
        "id": "hRxzD-il6sAX",
        "colab": {
          "base_uri": "https://localhost:8080/"
        },
        "outputId": "973de3e3-4cb9-4d18-a378-f0a43786130f"
      },
      "outputs": [
        {
          "output_type": "stream",
          "name": "stdout",
          "text": [
            "Model: \"model_1\"\n",
            "_________________________________________________________________\n",
            " Layer (type)                Output Shape              Param #   \n",
            "=================================================================\n",
            " input_2 (InputLayer)        [(None, 20000)]           0         \n",
            "                                                                 \n",
            " dense_2 (Dense)             (None, 16)                320016    \n",
            "                                                                 \n",
            " dropout_1 (Dropout)         (None, 16)                0         \n",
            "                                                                 \n",
            " dense_3 (Dense)             (None, 1)                 17        \n",
            "                                                                 \n",
            "=================================================================\n",
            "Total params: 320,033\n",
            "Trainable params: 320,033\n",
            "Non-trainable params: 0\n",
            "_________________________________________________________________\n",
            "Epoch 1/5\n",
            "586/586 [==============================] - 10s 17ms/step - loss: 0.4644 - accuracy: 0.7958 - val_loss: 0.3058 - val_accuracy: 0.8877\n",
            "Epoch 2/5\n",
            "586/586 [==============================] - 3s 5ms/step - loss: 0.3031 - accuracy: 0.8824 - val_loss: 0.2715 - val_accuracy: 0.8954\n",
            "Epoch 3/5\n",
            "586/586 [==============================] - 3s 5ms/step - loss: 0.2624 - accuracy: 0.9028 - val_loss: 0.2800 - val_accuracy: 0.8957\n",
            "Epoch 4/5\n",
            "586/586 [==============================] - 3s 5ms/step - loss: 0.2331 - accuracy: 0.9114 - val_loss: 0.2974 - val_accuracy: 0.8936\n",
            "Epoch 5/5\n",
            "586/586 [==============================] - 3s 5ms/step - loss: 0.2194 - accuracy: 0.9171 - val_loss: 0.3133 - val_accuracy: 0.8875\n",
            "782/782 [==============================] - 15s 18ms/step - loss: 0.2674 - accuracy: 0.8968\n",
            "Test acc: 0.897\n"
          ]
        }
      ],
      "source": [
        "max_tokens=20000 \n",
        "hidden_dim=16\n",
        "\n",
        "model = get_model(max_tokens,hidden_dim)\n",
        "model.summary()\n",
        "\n",
        "callbacks = [\n",
        "    keras.callbacks.EarlyStopping( \n",
        "        monitor=\"val_accuracy\",\n",
        "        patience=2,\n",
        "    ),\n",
        "    keras.callbacks.ModelCheckpoint(\n",
        "        filepath=\"tf_2gram.keras\",\n",
        "        monitor=\"val_loss\",\n",
        "        save_best_only=True,\n",
        "    )\n",
        "]\n",
        "\n",
        "history=model.fit(tf_2gram_train_ds.cache(),\n",
        "          validation_data=tf_2gram_val_ds.cache(),\n",
        "          epochs=3,\n",
        "          callbacks=callbacks)\n",
        "model = keras.models.load_model(\"tf_2gram.keras\")\n",
        "print(f\"Test acc: {model.evaluate(tf_2gram_test_ds)[1]:.3f}\")"
      ]
    },
    {
      "cell_type": "code",
      "source": [
        "dot_img_file = 'simple_mlp_model.png'\n",
        "tf.keras.utils.plot_model(model, to_file=dot_img_file, show_shapes=True)"
      ],
      "metadata": {
        "id": "hJCBrerGu8Qd"
      },
      "execution_count": null,
      "outputs": []
    },
    {
      "cell_type": "markdown",
      "metadata": {
        "id": "6B7BjhTfoWu-"
      },
      "source": [
        "### Prédiction: Exporter le modèle entraîné pour être utiliser sur nos propres textes\n",
        "il suffit de créer une entrée de type texte, on la vectorise puis on la fournit au modèle"
      ]
    },
    {
      "cell_type": "code",
      "execution_count": 19,
      "metadata": {
        "id": "dHVzXlZE6sAX"
      },
      "outputs": [],
      "source": [
        "# création d'un tensor\n",
        "\n",
        "inputs = keras.Input(shape=(1,), dtype=\"string\")\n",
        "processed_inputs = text_vectorization(inputs)\n",
        "\n",
        "# on peut appeler n'importe quel modèle que nous avons déjà sauvé\n",
        "model = keras.models.load_model(\"tf_2gram.keras\")\n",
        "\n",
        "outputs = model(processed_inputs)\n",
        "inference_model = keras.Model(inputs, outputs)"
      ]
    },
    {
      "cell_type": "code",
      "execution_count": 20,
      "metadata": {
        "colab": {
          "base_uri": "https://localhost:8080/"
        },
        "id": "Mu-46p6K6sAY",
        "outputId": "eb0e51e5-eeb2-4c77-d035-921f3f3f0b29"
      },
      "outputs": [
        {
          "output_type": "stream",
          "name": "stdout",
          "text": [
            "87.45 percent positive\n"
          ]
        }
      ],
      "source": [
        "import tensorflow as tf\n",
        "raw_text_data = tf.convert_to_tensor([\n",
        "    [\"That was an excellent movie, I loved it.\"],\n",
        "])\n",
        "\n",
        "predictions = inference_model(raw_text_data)\n",
        "print(f\"{float(predictions[0] * 100):.2f} percent positive\")"
      ]
    },
    {
      "cell_type": "markdown",
      "metadata": {
        "id": "UFCFojO9ZiaP"
      },
      "source": [
        "**Visualiser l'acrroissement de la précsion ou la diminution de la loss**"
      ]
    },
    {
      "cell_type": "code",
      "execution_count": 21,
      "metadata": {
        "colab": {
          "base_uri": "https://localhost:8080/",
          "height": 295
        },
        "id": "QS_hNNipZO46",
        "outputId": "07abf3a0-d16d-4dea-9969-bf9e18356e8c"
      },
      "outputs": [
        {
          "output_type": "display_data",
          "data": {
            "image/png": "[encoded data removed]",
            "text/plain": [
              "<Figure size 432x288 with 1 Axes>"
            ]
          },
          "metadata": {
            "needs_background": "light"
          }
        }
      ],
      "source": [
        "import matplotlib.pyplot as plt\n",
        "history_dict = history.history\n",
        "loss_values = history_dict[\"loss\"]\n",
        "val_loss_values = history_dict[\"val_loss\"]\n",
        "epochs = range(1, len(loss_values) + 1)\n",
        "plt.plot(epochs, loss_values, \"bo\", label=\"Training loss\")\n",
        "plt.plot(epochs, val_loss_values, \"b\", label=\"Validation loss\")\n",
        "plt.title(\"Training and validation loss\")\n",
        "plt.xlabel(\"Epochs\")\n",
        "plt.ylabel(\"Loss\")\n",
        "plt.legend()\n",
        "plt.show()"
      ]
    },
    {
      "cell_type": "code",
      "execution_count": 22,
      "metadata": {
        "colab": {
          "base_uri": "https://localhost:8080/",
          "height": 295
        },
        "id": "Iel0eyynamZr",
        "outputId": "6d7316ce-3ff6-4775-e689-c9c8f49c3ccc"
      },
      "outputs": [
        {
          "output_type": "display_data",
          "data": {
            "image/png": "[encoded data removed]",
            "text/plain": [
              "<Figure size 432x288 with 1 Axes>"
            ]
          },
          "metadata": {
            "needs_background": "light"
          }
        }
      ],
      "source": [
        "plt.clf()\n",
        "acc = history_dict[\"accuracy\"]\n",
        "val_acc = history_dict[\"val_accuracy\"]\n",
        "plt.plot(epochs, acc, \"bo\", label=\"Training acc\")\n",
        "plt.plot(epochs, val_acc, \"b\", label=\"Validation acc\")\n",
        "plt.title(\"Training and validation accuracy\")\n",
        "plt.xlabel(\"Epochs\")\n",
        "plt.ylabel(\"Accuracy\")\n",
        "plt.legend()\n",
        "plt.show()"
      ]
    },
    {
      "cell_type": "markdown",
      "metadata": {
        "id": "FsLDn36Svl15"
      },
      "source": [
        "## Sequence *model*\n",
        "Ces modèles permettent de traiter une séquence de mots. On garde l'ordre"
      ]
    },
    {
      "cell_type": "code",
      "execution_count": null,
      "metadata": {
        "id": "dDFXn9VHvlka"
      },
      "outputs": [],
      "source": [
        "from tensorflow.keras import layers\n",
        "from tensorflow.keras.layers import TextVectorization\n",
        "\n",
        "#on prend des séquences de 600 mots \n",
        "max_length = 600\n",
        "max_tokens = 20000\n",
        "text_vectorization = TextVectorization(\n",
        "    max_tokens=max_tokens,\n",
        "    output_mode=\"int\",\n",
        "    output_sequence_length=max_length,\n",
        ")\n",
        "text_vectorization.adapt(text_only_train_ds)\n",
        "\n",
        "int_train_ds = train_ds.map(\n",
        "    lambda x, y: (text_vectorization(x), y),\n",
        "    num_parallel_calls=4)\n",
        "int_val_ds = val_ds.map(\n",
        "    lambda x, y: (text_vectorization(x), y),\n",
        "    num_parallel_calls=4)\n",
        "int_test_ds = test_ds.map(\n",
        "    lambda x, y: (text_vectorization(x), y),\n",
        "    num_parallel_calls=4)"
      ]
    },
    {
      "cell_type": "markdown",
      "metadata": {
        "id": "gAKhDu8nEY-G"
      },
      "source": [
        "### One hot model\n",
        "**Définition d'un modèle one hot** Attention l'entrainement du modèle peut prendre beaucoup de temps, à cause de l'entrée, chaque mot, il y'en a 600 par texte) est représenté par un vecteur de 20000 entrées???.\n",
        "\n",
        "Les modèles (type de couches) sont définis isi : https://keras.io/api/layers/recurrent_layers/"
      ]
    },
    {
      "cell_type": "code",
      "execution_count": null,
      "metadata": {
        "id": "NKYvys4vvll4"
      },
      "outputs": [],
      "source": [
        "# sequene model avec une entrée en one_hot\n",
        "\n",
        "import tensorflow as tf\n",
        "inputs = keras.Input(shape=(None,), dtype=\"int64\")\n",
        "\n",
        "# chaque mot (indice) est représenté en one_hot vecteur (un vecteur de dimension 20000)\n",
        "embedded = tf.one_hot(inputs, depth=max_tokens)\n",
        "\n",
        "# ajout d'ue couche birectionnelle de type LSTM\n",
        "x = layers.Bidirectional(layers.LSTM(32))(embedded)\n",
        "x = layers.Dropout(0.5)(x)\n",
        "\n",
        "# couche de sortie simple couche 1 sortie pur la classification\n",
        "outputs = layers.Dense(1, activation=\"sigmoid\")(x)\n",
        "\n",
        "\n",
        "model = keras.Model(inputs, outputs)\n",
        "model.compile(optimizer=\"rmsprop\",\n",
        "              loss=\"binary_crossentropy\",\n",
        "              metrics=[\"accuracy\"])\n",
        "model.summary()"
      ]
    },
    {
      "cell_type": "markdown",
      "metadata": {
        "id": "gQYxXWnDzOVB"
      },
      "source": [
        "**Eentrainement d modèle**"
      ]
    },
    {
      "cell_type": "code",
      "execution_count": null,
      "metadata": {
        "id": "CI7WTBtOvpB7"
      },
      "outputs": [],
      "source": [
        "allbacks = [\n",
        "    keras.callbacks.ModelCheckpoint(\"one_hot_bidir_lstm.keras\",\n",
        "                                    save_best_only=True)\n",
        "]\n",
        "model.fit(int_train_ds, validation_data=int_val_ds, epochs=10, callbacks=callbacks)\n",
        "model = keras.models.load_model(\"one_hot_bidir_lstm.keras\")\n",
        "print(f\"Test acc: {model.evaluate(int_test_ds)[1]:.3f}\")\n",
        "\n",
        "## ca prend beaucoup de temps\n",
        "## l'entrée du modèle est formée de vecteurs de 600*20000 pour chaque texte ??\n",
        "## trop gros"
      ]
    },
    {
      "cell_type": "markdown",
      "metadata": {
        "id": "AYSXeaJA1pcz"
      },
      "source": [
        "### Représentation des mots par des embeddings\n",
        " la couche d'embbeding a au moins deux paramètres (voir la classe embedding) (https://keras.io/api/layers/core_layers/embedding/):\n",
        "\n",
        "- layers.Embedding(input_dim=max_tokens, output_dim=256)(inputs)\n",
        "\n",
        "- le nombre d'entrée  et  la dimension de l'embedding ici 256\n",
        "\n",
        "Cette couche prend les représentations  (indices des mots) et transforme chaque mot en un vecteur de dimensions 256, \n",
        "au lieu d'avoir 600 * 20000 on aura là 600 * 256."
      ]
    },
    {
      "cell_type": "code",
      "execution_count": null,
      "metadata": {
        "id": "_8u_46cTz_SR"
      },
      "outputs": [],
      "source": [
        "inputs = keras.Input(shape=(None,), dtype=\"int64\")\n",
        "embedded = layers.Embedding(input_dim=max_tokens, output_dim=256)(inputs)\n",
        "x = layers.Bidirectional(layers.LSTM(32))(embedded)\n",
        "x = layers.Dropout(0.5)(x)\n",
        "outputs = layers.Dense(1, activation=\"sigmoid\")(x)\n",
        "model = keras.Model(inputs, outputs)\n",
        "model.compile(optimizer=\"rmsprop\",\n",
        "              loss=\"binary_crossentropy\",\n",
        "              metrics=[\"accuracy\"])\n",
        "model.summary()\n",
        "\n",
        "callbacks = [\n",
        "    keras.callbacks.ModelCheckpoint(\"embeddings_bidir_lstm.keras\",\n",
        "                                    save_best_only=True)\n",
        "]\n",
        "model.fit(int_train_ds, validation_data=int_val_ds, epochs=10, callbacks=callbacks)\n",
        "model = keras.models.load_model(\"embeddings_bidir_lstm.keras\")\n",
        "print(f\"Test acc: {model.evaluate(int_test_ds)[1]:.3f}\")"
      ]
    },
    {
      "cell_type": "markdown",
      "metadata": {
        "id": "lGQmeaHD1--I"
      },
      "source": [
        "**Padding et masking**\n",
        "- l'utilisation d'une dimension max_length va conduire à la vectorisation (rajout des zeros (padding)) quand la phrase est courte et sa troncature quand elle et longue\n",
        "- la couche embedding permet de générer des \"mask\" indiquant aux coucheq du RNN de ne pas traiter les zéros."
      ]
    },
    {
      "cell_type": "code",
      "execution_count": null,
      "metadata": {
        "id": "lM93hn-wz_Qz"
      },
      "outputs": [],
      "source": [
        "inputs = keras.Input(shape=(None,), dtype=\"int64\")\n",
        "embedded = layers.Embedding(\n",
        "    input_dim=max_tokens, output_dim=256, mask_zero=True)(inputs)\n",
        "x = layers.Bidirectional(layers.LSTM(32))(embedded)\n",
        "x = layers.Dropout(0.5)(x)\n",
        "outputs = layers.Dense(1, activation=\"sigmoid\")(x)\n",
        "model = keras.Model(inputs, outputs)\n",
        "model.compile(optimizer=\"rmsprop\",\n",
        "              loss=\"binary_crossentropy\",\n",
        "              metrics=[\"accuracy\"])\n",
        "model.summary()\n",
        "\n",
        "callbacks = [\n",
        "    keras.callbacks.ModelCheckpoint(\"embeddings_bidir_gru_with_masking.keras\",\n",
        "                                    save_best_only=True)\n",
        "]\n",
        "model.fit(int_train_ds, validation_data=int_val_ds, epochs=10, callbacks=callbacks)\n",
        "model = keras.models.load_model(\"embeddings_bidir_gru_with_masking.keras\")\n",
        "print(f\"Test acc: {model.evaluate(int_test_ds)[1]:.3f}\")"
      ]
    },
    {
      "cell_type": "markdown",
      "metadata": {
        "id": "5o5N7UHw39b2"
      },
      "source": [
        "### Utlisation des embeddings pré-entrainés\n",
        "**On utilisera Glove** on le charge depuis le site de Stanford"
      ]
    },
    {
      "cell_type": "code",
      "execution_count": null,
      "metadata": {
        "id": "qmerY0cF4Daa"
      },
      "outputs": [],
      "source": [
        "!wget http://nlp.stanford.edu/data/glove.6B.zip\n",
        "!unzip -q glove.6B.zip"
      ]
    },
    {
      "cell_type": "code",
      "execution_count": null,
      "metadata": {
        "colab": {
          "base_uri": "https://localhost:8080/"
        },
        "id": "dyD4ttBT4ej4",
        "outputId": "c4fd68ea-6105-4b28-edae-4b85b1cbcefb"
      },
      "outputs": [
        {
          "name": "stdout",
          "output_type": "stream",
          "text": [
            "Found 400000 word vectors.\n"
          ]
        }
      ],
      "source": [
        "## parser le fichier \n",
        "import numpy as np\n",
        "path_to_glove_file = \"glove.6B.100d.txt\"\n",
        "\n",
        "embeddings_index = {}\n",
        "with open(path_to_glove_file) as f:\n",
        "    for line in f:\n",
        "        word, coefs = line.split(maxsplit=1)\n",
        "        coefs = np.fromstring(coefs, \"f\", sep=\" \")\n",
        "        embeddings_index[word] = coefs\n",
        "\n",
        "print(f\"Found {len(embeddings_index)} word vectors.\")"
      ]
    },
    {
      "cell_type": "code",
      "execution_count": null,
      "metadata": {
        "id": "m55NQqFy4elx"
      },
      "outputs": [],
      "source": [
        "## préparer la matrice glove (Word embedding)\n",
        "embedding_dim = 100\n",
        "# on récupère le vocabulaire indexé par TextVectorization (voir cellules du dessus)\n",
        "vocabulary = text_vectorization.get_vocabulary()\n",
        "# faire un mapping des mots vers leurs index\n",
        "word_index = dict(zip(vocabulary, range(len(vocabulary))))\n",
        "\n",
        "# on prpare la matrice des embeddings\n",
        "embedding_matrix = np.zeros((max_tokens, embedding_dim))\n",
        "\n",
        "# Pour chaque mot de l'index, \n",
        "# on parcours embeddings_index, on récupère son vecteur et on le met dans la matrice\n",
        "\n",
        "for word, i in word_index.items():\n",
        "    if i < max_tokens:\n",
        "        embedding_vector = embeddings_index.get(word)\n",
        "    if embedding_vector is not None:\n",
        "        embedding_matrix[i] = embedding_vector"
      ]
    },
    {
      "cell_type": "code",
      "execution_count": null,
      "metadata": {
        "id": "OKdEKlld4enW"
      },
      "outputs": [],
      "source": [
        "## on utilise une couche emdedding constante, elle ne sera pas entrainable\n",
        "#trainable=False\n",
        "\n",
        "embedding_layer = layers.Embedding(\n",
        "    max_tokens,\n",
        "    embedding_dim,\n",
        "    embeddings_initializer=keras.initializers.Constant(embedding_matrix),\n",
        "    trainable=False,\n",
        "    mask_zero=True,\n",
        ")"
      ]
    },
    {
      "cell_type": "markdown",
      "metadata": {
        "id": "tB6AtymrE5Aq"
      },
      "source": [
        "**Définition du modèle**"
      ]
    },
    {
      "cell_type": "code",
      "execution_count": null,
      "metadata": {
        "colab": {
          "background_save": true,
          "base_uri": "https://localhost:8080/"
        },
        "id": "ffgEIMzs7AHu",
        "outputId": "1f8e687f-d4ca-4a82-9aa5-b08103d67ec4"
      },
      "outputs": [
        {
          "name": "stdout",
          "output_type": "stream",
          "text": [
            "Model: \"model_3\"\n",
            "_________________________________________________________________\n",
            " Layer (type)                Output Shape              Param #   \n",
            "=================================================================\n",
            " input_4 (InputLayer)        [(None, None)]            0         \n",
            "                                                                 \n",
            " embedding_1 (Embedding)     (None, None, 100)         2000000   \n",
            "                                                                 \n",
            " bidirectional_1 (Bidirectio  (None, 64)               34048     \n",
            " nal)                                                            \n",
            "                                                                 \n",
            " dropout_3 (Dropout)         (None, 64)                0         \n",
            "                                                                 \n",
            " dense_5 (Dense)             (None, 1)                 65        \n",
            "                                                                 \n",
            "=================================================================\n",
            "Total params: 2,034,113\n",
            "Trainable params: 34,113\n",
            "Non-trainable params: 2,000,000\n",
            "_________________________________________________________________\n",
            "Epoch 1/10\n",
            "625/625 [==============================] - 477s 747ms/step - loss: 0.5765 - accuracy: 0.6909 - val_loss: 0.4755 - val_accuracy: 0.7802\n",
            "Epoch 2/10\n",
            "625/625 [==============================] - 464s 743ms/step - loss: 0.4499 - accuracy: 0.7931 - val_loss: 0.4245 - val_accuracy: 0.8056\n",
            "Epoch 3/10\n",
            "625/625 [==============================] - 454s 727ms/step - loss: 0.4025 - accuracy: 0.8227 - val_loss: 0.4292 - val_accuracy: 0.8040\n",
            "Epoch 4/10\n",
            "625/625 [==============================] - 455s 729ms/step - loss: 0.3683 - accuracy: 0.8440 - val_loss: 0.3750 - val_accuracy: 0.8390\n",
            "Epoch 5/10\n",
            "625/625 [==============================] - 455s 727ms/step - loss: 0.3432 - accuracy: 0.8561 - val_loss: 0.3366 - val_accuracy: 0.8504\n",
            "Epoch 6/10\n",
            "625/625 [==============================] - 453s 724ms/step - loss: 0.3197 - accuracy: 0.8661 - val_loss: 0.3624 - val_accuracy: 0.8440\n",
            "Epoch 7/10\n",
            "625/625 [==============================] - 455s 728ms/step - loss: 0.3020 - accuracy: 0.8755 - val_loss: 0.3191 - val_accuracy: 0.8618\n",
            "Epoch 8/10\n",
            "625/625 [==============================] - 454s 726ms/step - loss: 0.2899 - accuracy: 0.8801 - val_loss: 0.3233 - val_accuracy: 0.8656\n",
            "Epoch 9/10\n",
            "625/625 [==============================] - 448s 716ms/step - loss: 0.2730 - accuracy: 0.8894 - val_loss: 0.3198 - val_accuracy: 0.8658\n",
            "Epoch 10/10\n",
            "625/625 [==============================] - 448s 717ms/step - loss: 0.2582 - accuracy: 0.8960 - val_loss: 0.3090 - val_accuracy: 0.8722\n",
            "782/782 [==============================] - 120s 149ms/step - loss: 0.2964 - accuracy: 0.8749\n",
            "Test acc: 0.875\n"
          ]
        }
      ],
      "source": [
        "inputs = keras.Input(shape=(None,), dtype=\"int64\")\n",
        "embedded = embedding_layer(inputs)\n",
        "x = layers.Bidirectional(layers.LSTM(32))(embedded)\n",
        "x = layers.Dropout(0.5)(x)\n",
        "outputs = layers.Dense(1, activation=\"sigmoid\")(x)\n",
        "model = keras.Model(inputs, outputs)\n",
        "model.compile(optimizer=\"rmsprop\",\n",
        "              loss=\"binary_crossentropy\",\n",
        "              metrics=[\"accuracy\"])\n",
        "model.summary()\n",
        "\n",
        "\n",
        "callbacks = [\n",
        "    keras.callbacks.EarlyStopping(\n",
        "        monitor=\"val_accuracy\",\n",
        "        patience=2,\n",
        "    ),\n",
        "    keras.callbacks.ModelCheckpoint(\n",
        "        filepath=\"glove_embeddings_sequence_model.keras\",\n",
        "        monitor=\"val_loss\",\n",
        "        save_best_only=True,\n",
        "    )\n",
        "]\n",
        "hisory=model.fit(int_train_ds, validation_data=int_val_ds, epochs=10, callbacks=callbacks)\n",
        "model = keras.models.load_model(\"glove_embeddings_sequence_model.keras\")\n",
        "print(f\"Test acc: {model.evaluate(int_test_ds)[1]:.3f}\")"
      ]
    },
    {
      "cell_type": "code",
      "execution_count": null,
      "metadata": {
        "colab": {
          "base_uri": "https://localhost:8080/",
          "height": 533
        },
        "id": "oJl5nhAGM6UF",
        "outputId": "2ad47264-08fa-422a-a931-d12062c2855a"
      },
      "outputs": [
        {
          "data": {
            "image/png": "[encoded data removed]",
            "text/plain": [
              "<IPython.core.display.Image object>"
            ]
          },
          "execution_count": 22,
          "metadata": {},
          "output_type": "execute_result"
        }
      ],
      "source": [
        "dot_img_file = 'glove_embeddings_sequence_model.png'\n",
        "tf.keras.utils.plot_model(model, to_file=dot_img_file, show_shapes=True)"
      ]
    },
    {
      "cell_type": "markdown",
      "metadata": {
        "id": "uNsFNf0IRBNe"
      },
      "source": [
        "**Utilisation d'un modèle entrainé**"
      ]
    },
    {
      "cell_type": "code",
      "execution_count": null,
      "metadata": {
        "id": "UUf19sM07AJN"
      },
      "outputs": [],
      "source": [
        "# création d'un tensor\n",
        "\n",
        "inputs = keras.Input(shape=(1,), dtype=\"string\")\n",
        "processed_inputs = text_vectorization(inputs)\n",
        "\n",
        "# on peut appeler n'importe quel modèle que nous avons déjà sauvé\n",
        "#model = keras.models.load_model(\"glove_embeddings_sequence_model.keras\")\n",
        "\n",
        "outputs = model(processed_inputs)\n",
        "inference_model = keras.Model(inputs, outputs)"
      ]
    },
    {
      "cell_type": "code",
      "execution_count": null,
      "metadata": {
        "colab": {
          "base_uri": "https://localhost:8080/"
        },
        "id": "NO7xUOUsLPdU",
        "outputId": "b4c5ed86-732a-467d-af13-6adbd5ae5a19"
      },
      "outputs": [
        {
          "name": "stdout",
          "output_type": "stream",
          "text": [
            "98.57 percent positive\n"
          ]
        }
      ],
      "source": [
        "import tensorflow as tf\n",
        "raw_text_data = tf.convert_to_tensor([\n",
        "    [\"That was an excellent movie, I loved it.\"],\n",
        "])\n",
        "predictions = inference_model(raw_text_data)\n",
        "print(f\"{float(predictions[0] * 100):.2f} percent positive\")"
      ]
    },
    {
      "cell_type": "code",
      "execution_count": null,
      "metadata": {
        "id": "Fq26Xl9iYUNJ"
      },
      "outputs": [],
      "source": [
        "model = keras.models.load_model(\"glove_embeddings_sequence_model.keras\")\n",
        "history_dict = model.history\n",
        "history_dict.keys()"
      ]
    },
    {
      "cell_type": "code",
      "execution_count": null,
      "metadata": {
        "id": "ladCtwU7YjO0"
      },
      "outputs": [],
      "source": [
        "import matplotlib.pyplot as plt\n",
        "history_dict = model.history\n",
        "loss_values = history_dict[\"loss\"]\n",
        "val_loss_values = history_dict[\"val_loss\"]\n",
        "epochs = range(1, len(loss_values) + 1)\n",
        "plt.plot(epochs, loss_values, \"bo\", label=\"Training loss\")\n",
        "plt.plot(epochs, val_loss_values, \"b\", label=\"Validation loss\")\n",
        "plt.title(\"Training and validation loss\")\n",
        "plt.xlabel(\"Epochs\")\n",
        "plt.ylabel(\"Loss\")\n",
        "plt.legend()\n",
        "plt.show()"
      ]
    },
    {
      "cell_type": "markdown",
      "source": [
        "## Modèle à Convolution (CNN)\n",
        "\n",
        "Ce type de modèle utilisé pour les images (le premier exemple porte sur une recherche d'image à partir du dataset cifar10). Le second exemple exploite un CNN sur notre texte.\n",
        "2.1 Exemple classification d'images"
      ],
      "metadata": {
        "id": "PRAb0xrQGU_C"
      }
    },
    {
      "cell_type": "markdown",
      "source": [
        "####CNN Sur de l'image"
      ],
      "metadata": {
        "id": "53uMaypLlES7"
      }
    },
    {
      "cell_type": "code",
      "source": [
        "import tensorflow as tf\n",
        "from tensorflow import keras\n",
        "\n",
        "from tensorflow.keras import datasets, layers, models, optimizers\n",
        "\n",
        "import matplotlib.pyplot as plt\n",
        "\n",
        "(x_train, y_train), (x_test, y_test) = datasets.cifar10.load_data()\n",
        "assert x_train.shape == (50000, 32, 32, 3)\n",
        "assert x_test.shape == (10000, 32, 32, 3)\n",
        "assert y_train.shape == (50000, 1)\n",
        "assert y_test.shape == (10000, 1)\n",
        "\n",
        "\n",
        "# input:   3 channels -> (32, 32, 3) tensors.\n",
        "inputs = keras.Input(shape=(32, 32, 3))\n",
        "# this applies 32 convolution filters of size 3x3 each.\n",
        "x=layers.Conv2D(32, (3, 3), activation='relu')(inputs)\n",
        "x=layers.MaxPooling2D(pool_size=(2, 2))(x)\n",
        "x=layers.Conv2D(64, (3, 3), activation='relu')(x)\n",
        "x=layers.MaxPooling2D(pool_size=(2, 2))(x)\n",
        "\n",
        "x=layers.Flatten()(x)\n",
        "x=layers.Dense(256, activation='relu')(x)\n",
        "x=layers.Dropout(0.5)(x)\n",
        "outputs=layers.Dense(10, activation='softmax')(x)\n",
        "model = keras.Model(inputs, outputs)\n",
        "\n",
        "model.compile(loss='categorical_crossentropy', optimizer=keras.optimizers.Adam(1e-3))\n",
        "\n",
        "#model.fit(x_train, y_train, batch_size=32, epochs=10)\n",
        "model.summary()\n"
      ],
      "metadata": {
        "id": "kXkfeXbcGSp7"
      },
      "execution_count": null,
      "outputs": []
    },
    {
      "cell_type": "markdown",
      "source": [
        "#### CNN sur du Texte"
      ],
      "metadata": {
        "id": "yPLA97mRkxUU"
      }
    },
    {
      "cell_type": "code",
      "source": [
        "import tensorflow as tf\n",
        "from tensorflow.keras import datasets, layers, models\n",
        "\n",
        "hidden_dim=16\n",
        "max_features=20000\n",
        "embedding_dim=100\n",
        "\n",
        "inputs = tf.keras.Input(shape=(max_features,), dtype=\"int64\")\n",
        "# A integer input for vocab indices.\n",
        "inputs = tf.keras.Input(shape=(None,), dtype=\"int64\")\n",
        "\n",
        "# Next, we add a layer to map those vocab indices into a space of dimensionality\n",
        "# 'embedding_dim'.\n",
        "x = layers.Embedding(max_features, embedding_dim)(inputs)\n",
        "x = layers.Dropout(0.5)(x)\n",
        "\n",
        "# Conv1D + global max pooling\n",
        "x = layers.Conv1D(128, 7, padding=\"valid\", activation=\"relu\", strides=3)(x)\n",
        "x = layers.Conv1D(128, 7, padding=\"valid\", activation=\"relu\", strides=3)(x)\n",
        "x = layers.GlobalMaxPooling1D()(x)\n",
        "\n",
        "# We add a vanilla hidden layer:\n",
        "x = layers.Dense(128, activation=\"relu\")(x)\n",
        "x = layers.Dropout(0.5)(x)\n",
        "\n",
        "# We project onto a single unit output layer, and squash it with a sigmoid:\n",
        "outputs = layers.Dense(1, activation=\"sigmoid\", name=\"predictions\")(x)\n",
        "\n",
        "model_cnn = tf.keras.Model(inputs, outputs)\n",
        "\n",
        "# Compile the model with binary crossentropy loss and an adam optimizer.\n",
        "model_cnn.compile(loss=\"binary_crossentropy\", optimizer=\"adam\", metrics=[\"accuracy\"])\n",
        "\n"
      ],
      "metadata": {
        "id": "A5Y3diLLhkJ-"
      },
      "execution_count": 5,
      "outputs": []
    }
  ],
  "metadata": {
    "accelerator": "GPU",
    "colab": {
      "collapsed_sections": [],
      "name": "CoursRI_DeepLearning_Text_V1",
      "provenance": [],
      "include_colab_link": true
    },
    "kernelspec": {
      "display_name": "Python 3",
      "language": "python",
      "name": "python3"
    },
    "language_info": {
      "codemirror_mode": {
        "name": "ipython",
        "version": 3
      },
      "file_extension": ".py",
      "mimetype": "text/x-python",
      "name": "python",
      "nbconvert_exporter": "python",
      "pygments_lexer": "ipython3",
      "version": "3.7.0"
    }
  },
  "nbformat": 4,
  "nbformat_minor": 0
}